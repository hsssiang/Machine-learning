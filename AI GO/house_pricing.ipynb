{
 "cells": [
  {
   "cell_type": "code",
   "execution_count": 189,
   "metadata": {},
   "outputs": [],
   "source": [
    "import pandas as pd\n",
    "import numpy as np\n",
    "import matplotlib.pyplot as plt\n",
    "import seaborn as sns\n",
    "import matplotlib.font_manager as fm\n",
    "\n",
    "sns.set(font=fm.FontProperties(fname='/System/Library/Fonts/PingFang.ttc').get_name())\n",
    "\n",
    "%matplotlib inline"
   ]
  },
  {
   "cell_type": "markdown",
   "metadata": {},
   "source": [
    "### 讀入資料集"
   ]
  },
  {
   "cell_type": "code",
   "execution_count": 190,
   "metadata": {},
   "outputs": [
    {
     "name": "stdout",
     "output_type": "stream",
     "text": [
      "Full train dataset shape is (11751, 22)\n",
      "Full test dataset shape is (5876, 21)\n",
      "Full test dataset shape is (5875, 21)\n"
     ]
    }
   ],
   "source": [
    "\n",
    "train_path = './30_Training Dataset_V2/training_data.csv'\n",
    "train = pd.read_csv(train_path)\n",
    "print(\"Full train dataset shape is {}\".format(train.shape))\n",
    "\n",
    "public_test_path = './30_Public Dataset_Public Sumission Template_v2/public_dataset.csv'\n",
    "public_test = pd.read_csv(public_test_path)\n",
    "print(\"Full test dataset shape is {}\".format(public_test.shape))\n",
    "\n",
    "private_test_path = './30_Private Dataset _Private and Publict Submission Template_v2/private_dataset.csv'\n",
    "private_test = pd.read_csv(private_test_path)\n",
    "print(\"Full test dataset shape is {}\".format(private_test.shape))\n",
    "\n",
    "public_test_ID = public_test['ID']\n",
    "private_test_ID = private_test['ID']"
   ]
  },
  {
   "cell_type": "markdown",
   "metadata": {},
   "source": [
    "檢查資料型別"
   ]
  },
  {
   "cell_type": "code",
   "execution_count": 191,
   "metadata": {},
   "outputs": [
    {
     "name": "stdout",
     "output_type": "stream",
     "text": [
      "<class 'pandas.core.frame.DataFrame'>\n",
      "RangeIndex: 11751 entries, 0 to 11750\n",
      "Data columns (total 22 columns):\n",
      " #   Column  Non-Null Count  Dtype  \n",
      "---  ------  --------------  -----  \n",
      " 0   ID      11751 non-null  object \n",
      " 1   縣市      11751 non-null  object \n",
      " 2   鄉鎮市區    11751 non-null  object \n",
      " 3   路名      11751 non-null  object \n",
      " 4   土地面積    11751 non-null  float64\n",
      " 5   使用分區    11751 non-null  object \n",
      " 6   移轉層次    11751 non-null  int64  \n",
      " 7   總樓層數    11751 non-null  int64  \n",
      " 8   主要用途    11751 non-null  object \n",
      " 9   主要建材    11751 non-null  object \n",
      " 10  建物型態    11751 non-null  object \n",
      " 11  屋齡      11751 non-null  float64\n",
      " 12  建物面積    11751 non-null  float64\n",
      " 13  車位面積    11751 non-null  float64\n",
      " 14  車位個數    11751 non-null  float64\n",
      " 15  橫坐標     11751 non-null  int64  \n",
      " 16  縱坐標     11751 non-null  int64  \n",
      " 17  備註      92 non-null     object \n",
      " 18  主建物面積   11751 non-null  float64\n",
      " 19  陽台面積    11751 non-null  float64\n",
      " 20  附屬建物面積  11751 non-null  float64\n",
      " 21  單價      11751 non-null  float64\n",
      "dtypes: float64(9), int64(4), object(9)\n",
      "memory usage: 2.0+ MB\n"
     ]
    }
   ],
   "source": [
    "train.info()"
   ]
  },
  {
   "cell_type": "markdown",
   "metadata": {},
   "source": [
    "資料說明中已去識別化的欄位\n",
    "* 土地面積\n",
    "* 建物面積\n",
    "* 車位面積\n",
    "* 橫坐標\n",
    "* 縱坐標\n",
    "* 主建物面積\n",
    "* 陽台面積\n",
    "* 附屬建物面積\n",
    "* 單價"
   ]
  },
  {
   "cell_type": "code",
   "execution_count": 192,
   "metadata": {},
   "outputs": [],
   "source": [
    "train['車位個數'] = train['車位個數'].astype('int64')"
   ]
  },
  {
   "cell_type": "code",
   "execution_count": 193,
   "metadata": {},
   "outputs": [
    {
     "data": {
      "text/plain": [
       "\" numeric_features = train.select_dtypes(include=['int64', 'float64']).columns.drop(['橫坐標', '縱坐標'])\\n\\nfig, axs = plt.subplots(4, 3, figsize=(15, 15))\\nfor i, feature in enumerate(numeric_features):\\n    row = i // 3\\n    col = i % 3\\n    sns.kdeplot(train[feature], fill=True, ax=axs[row][col])\\nplt.show() \""
      ]
     },
     "execution_count": 193,
     "metadata": {},
     "output_type": "execute_result"
    }
   ],
   "source": [
    "\"\"\" numeric_features = train.select_dtypes(include=['int64', 'float64']).columns.drop(['橫坐標', '縱坐標'])\n",
    "\n",
    "fig, axs = plt.subplots(4, 3, figsize=(15, 15))\n",
    "for i, feature in enumerate(numeric_features):\n",
    "    row = i // 3\n",
    "    col = i % 3\n",
    "    sns.kdeplot(train[feature], fill=True, ax=axs[row][col])\n",
    "plt.show() \"\"\"\n"
   ]
  },
  {
   "cell_type": "code",
   "execution_count": 194,
   "metadata": {},
   "outputs": [
    {
     "data": {
      "text/plain": [
       "\" from matplotlib.cm import coolwarm\\nfrom matplotlib.colors import Normalize\\n\\nfig, ax = plt.subplots()\\nscatter = ax.scatter(train['橫坐標'], train['縱坐標'], c=train['單價'], cmap=coolwarm, norm=Normalize())\\nplt.colorbar(scatter)\\nax.set_xlabel('X')\\nax.set_ylabel('Y')\\nax.set_title('Scatter plot of coordinates colored by target variable')\\nax.set_aspect('equal', adjustable='box')\\nplt.show() \""
      ]
     },
     "execution_count": 194,
     "metadata": {},
     "output_type": "execute_result"
    }
   ],
   "source": [
    "\"\"\" from matplotlib.cm import coolwarm\n",
    "from matplotlib.colors import Normalize\n",
    "\n",
    "fig, ax = plt.subplots()\n",
    "scatter = ax.scatter(train['橫坐標'], train['縱坐標'], c=train['單價'], cmap=coolwarm, norm=Normalize())\n",
    "plt.colorbar(scatter)\n",
    "ax.set_xlabel('X')\n",
    "ax.set_ylabel('Y')\n",
    "ax.set_title('Scatter plot of coordinates colored by target variable')\n",
    "ax.set_aspect('equal', adjustable='box')\n",
    "plt.show() \"\"\"\n"
   ]
  },
  {
   "cell_type": "code",
   "execution_count": 195,
   "metadata": {},
   "outputs": [
    {
     "data": {
      "text/plain": [
       "\" lower_limit, upper_limit = np.percentile(a=train['單價'],q=[1,99])\\nprint(upper_limit)\\nprint(lower_limit)\\nprice_filtered = train['單價'][(train['單價']>lower_limit) & (train['單價']<upper_limit)].index\\n\\nfig, ax = plt.subplots()\\nscatter = ax.scatter(train['橫坐標'][price_filtered], train['縱坐標'][price_filtered], c=train['單價'][price_filtered], cmap=coolwarm, norm=Normalize())\\nplt.colorbar(scatter)\\nax.set_xlabel('X')\\nax.set_ylabel('Y')\\nax.set_title('Scatter plot of coordinates colored by target variable')\\nax.set_aspect('equal', adjustable='box')\\nplt.show() \""
      ]
     },
     "execution_count": 195,
     "metadata": {},
     "output_type": "execute_result"
    }
   ],
   "source": [
    "\"\"\" lower_limit, upper_limit = np.percentile(a=train['單價'],q=[1,99])\n",
    "print(upper_limit)\n",
    "print(lower_limit)\n",
    "price_filtered = train['單價'][(train['單價']>lower_limit) & (train['單價']<upper_limit)].index\n",
    "\n",
    "fig, ax = plt.subplots()\n",
    "scatter = ax.scatter(train['橫坐標'][price_filtered], train['縱坐標'][price_filtered], c=train['單價'][price_filtered], cmap=coolwarm, norm=Normalize())\n",
    "plt.colorbar(scatter)\n",
    "ax.set_xlabel('X')\n",
    "ax.set_ylabel('Y')\n",
    "ax.set_title('Scatter plot of coordinates colored by target variable')\n",
    "ax.set_aspect('equal', adjustable='box')\n",
    "plt.show() \"\"\"\n"
   ]
  },
  {
   "cell_type": "markdown",
   "metadata": {},
   "source": [
    "### 特徵編碼、缺失值處理"
   ]
  },
  {
   "cell_type": "markdown",
   "metadata": {},
   "source": [
    "同時處理 `train` & `test` 資料"
   ]
  },
  {
   "cell_type": "code",
   "execution_count": 196,
   "metadata": {},
   "outputs": [
    {
     "data": {
      "text/plain": [
       "(23502, 20)"
      ]
     },
     "execution_count": 196,
     "metadata": {},
     "output_type": "execute_result"
    }
   ],
   "source": [
    "all_data = pd.concat([train.drop(['ID', '單價'], axis=1 ), public_test.drop(['ID'],axis=1), private_test.drop(['ID'],axis=1)])\n",
    "all_data.reset_index(drop=True, inplace=True)\n",
    "all_data.shape"
   ]
  },
  {
   "cell_type": "code",
   "execution_count": 197,
   "metadata": {},
   "outputs": [
    {
     "name": "stdout",
     "output_type": "stream",
     "text": [
      "<class 'pandas.core.frame.DataFrame'>\n",
      "RangeIndex: 23502 entries, 0 to 23501\n",
      "Data columns (total 20 columns):\n",
      " #   Column  Non-Null Count  Dtype  \n",
      "---  ------  --------------  -----  \n",
      " 0   縣市      23502 non-null  object \n",
      " 1   鄉鎮市區    23502 non-null  object \n",
      " 2   路名      23502 non-null  object \n",
      " 3   土地面積    23502 non-null  float64\n",
      " 4   使用分區    23502 non-null  object \n",
      " 5   移轉層次    23502 non-null  int64  \n",
      " 6   總樓層數    23502 non-null  int64  \n",
      " 7   主要用途    23502 non-null  object \n",
      " 8   主要建材    23502 non-null  object \n",
      " 9   建物型態    23502 non-null  object \n",
      " 10  屋齡      23502 non-null  float64\n",
      " 11  建物面積    23502 non-null  float64\n",
      " 12  車位面積    23502 non-null  float64\n",
      " 13  車位個數    23502 non-null  float64\n",
      " 14  橫坐標     23502 non-null  int64  \n",
      " 15  縱坐標     23502 non-null  int64  \n",
      " 16  備註      182 non-null    object \n",
      " 17  主建物面積   23502 non-null  float64\n",
      " 18  陽台面積    23502 non-null  float64\n",
      " 19  附屬建物面積  23502 non-null  float64\n",
      "dtypes: float64(8), int64(4), object(8)\n",
      "memory usage: 3.6+ MB\n"
     ]
    }
   ],
   "source": [
    "all_data.info()"
   ]
  },
  {
   "cell_type": "markdown",
   "metadata": {},
   "source": [
    "### `baseline model` : Only One-hot encoding\n",
    "#### `MAPE`: 10.5002%"
   ]
  },
  {
   "cell_type": "markdown",
   "metadata": {},
   "source": [
    "處理缺失值: `備註`"
   ]
  },
  {
   "cell_type": "code",
   "execution_count": 198,
   "metadata": {},
   "outputs": [],
   "source": [
    "all_data['備註'] = all_data['備註'].apply(lambda x: False if pd.isnull(x) or x == '' else True)"
   ]
  },
  {
   "cell_type": "markdown",
   "metadata": {},
   "source": [
    "One-hot Encoding"
   ]
  },
  {
   "cell_type": "code",
   "execution_count": 199,
   "metadata": {},
   "outputs": [
    {
     "name": "stdout",
     "output_type": "stream",
     "text": [
      "<class 'pandas.core.frame.DataFrame'>\n",
      "RangeIndex: 23502 entries, 0 to 23501\n",
      "Columns: 4071 entries, 土地面積 to 建物型態_透天厝\n",
      "dtypes: bool(1), float64(8), int64(4), uint8(4058)\n",
      "memory usage: 93.1 MB\n"
     ]
    }
   ],
   "source": [
    "all_data_OH = pd.get_dummies(all_data)\n",
    "all_data_OH.info()"
   ]
  },
  {
   "cell_type": "code",
   "execution_count": 200,
   "metadata": {},
   "outputs": [
    {
     "name": "stdout",
     "output_type": "stream",
     "text": [
      "X shape is (11751, 4071)\n"
     ]
    }
   ],
   "source": [
    "X_OH = all_data_OH[:train.shape[0]]\n",
    "y_OH = train['單價']\n",
    "print(\"X shape is {}\".format(X_OH.shape))\n"
   ]
  },
  {
   "cell_type": "code",
   "execution_count": 201,
   "metadata": {},
   "outputs": [
    {
     "data": {
      "text/plain": [
       "' baseline = xgb.XGBRegressor(random_state=42)\\n\\nbaseline_score = cross_val_score(baseline, X_OH, y_OH, scoring=\\'neg_mean_absolute_percentage_error\\', cv=5)\\n\\nprint(baseline_score)\\n\\nbaseline_score = -1 * baseline_score.mean()\\n\\nprint(\"MAPE: %.4f%%\" % (baseline_score * 100.0)) '"
      ]
     },
     "execution_count": 201,
     "metadata": {},
     "output_type": "execute_result"
    }
   ],
   "source": [
    "##%%time\n",
    "\n",
    "from sklearn.model_selection import cross_val_score\n",
    "import xgboost as xgb\n",
    "\n",
    "\"\"\" baseline = xgb.XGBRegressor(random_state=42)\n",
    "\n",
    "baseline_score = cross_val_score(baseline, X_OH, y_OH, scoring='neg_mean_absolute_percentage_error', cv=5)\n",
    "\n",
    "print(baseline_score)\n",
    "\n",
    "baseline_score = -1 * baseline_score.mean()\n",
    "\n",
    "print(\"MAPE: %.4f%%\" % (baseline_score * 100.0)) \"\"\"\n"
   ]
  },
  {
   "cell_type": "markdown",
   "metadata": {},
   "source": [
    "### 特徵編碼"
   ]
  },
  {
   "cell_type": "code",
   "execution_count": 202,
   "metadata": {},
   "outputs": [
    {
     "name": "stdout",
     "output_type": "stream",
     "text": [
      "<class 'pandas.core.frame.DataFrame'>\n",
      "RangeIndex: 23502 entries, 0 to 23501\n",
      "Data columns (total 20 columns):\n",
      " #   Column  Non-Null Count  Dtype  \n",
      "---  ------  --------------  -----  \n",
      " 0   縣市      23502 non-null  object \n",
      " 1   鄉鎮市區    23502 non-null  object \n",
      " 2   路名      23502 non-null  object \n",
      " 3   土地面積    23502 non-null  float64\n",
      " 4   使用分區    23502 non-null  object \n",
      " 5   移轉層次    23502 non-null  int64  \n",
      " 6   總樓層數    23502 non-null  int64  \n",
      " 7   主要用途    23502 non-null  object \n",
      " 8   主要建材    23502 non-null  object \n",
      " 9   建物型態    23502 non-null  object \n",
      " 10  屋齡      23502 non-null  float64\n",
      " 11  建物面積    23502 non-null  float64\n",
      " 12  車位面積    23502 non-null  float64\n",
      " 13  車位個數    23502 non-null  float64\n",
      " 14  橫坐標     23502 non-null  int64  \n",
      " 15  縱坐標     23502 non-null  int64  \n",
      " 16  備註      23502 non-null  bool   \n",
      " 17  主建物面積   23502 non-null  float64\n",
      " 18  陽台面積    23502 non-null  float64\n",
      " 19  附屬建物面積  23502 non-null  float64\n",
      "dtypes: bool(1), float64(8), int64(4), object(7)\n",
      "memory usage: 3.4+ MB\n"
     ]
    }
   ],
   "source": [
    "all_data.info()"
   ]
  },
  {
   "cell_type": "code",
   "execution_count": 203,
   "metadata": {},
   "outputs": [
    {
     "data": {
      "text/plain": [
       "(137,)"
      ]
     },
     "execution_count": 203,
     "metadata": {},
     "output_type": "execute_result"
    }
   ],
   "source": [
    "district_names = all_data[['縣市', '鄉鎮市區']].apply(lambda x: ''.join(x), axis=1)\n",
    "district_names.unique().shape"
   ]
  },
  {
   "cell_type": "markdown",
   "metadata": {},
   "source": [
    "#### Label Encoding: `縣市`"
   ]
  },
  {
   "cell_type": "code",
   "execution_count": 204,
   "metadata": {},
   "outputs": [
    {
     "data": {
      "text/plain": [
       "新北市    8621\n",
       "台北市    4828\n",
       "高雄市    2643\n",
       "桃園市    2302\n",
       "台中市    2042\n",
       "台南市     903\n",
       "新竹縣     694\n",
       "新竹市     517\n",
       "基隆市     440\n",
       "宜蘭縣     138\n",
       "苗栗縣      95\n",
       "屏東縣      82\n",
       "嘉義市      64\n",
       "金門縣      63\n",
       "彰化縣      40\n",
       "花蓮縣      23\n",
       "雲林縣       5\n",
       "嘉義縣       2\n",
       "Name: 縣市, dtype: int64"
      ]
     },
     "execution_count": 204,
     "metadata": {},
     "output_type": "execute_result"
    }
   ],
   "source": [
    "all_data['縣市'].value_counts()"
   ]
  },
  {
   "cell_type": "code",
   "execution_count": 205,
   "metadata": {},
   "outputs": [
    {
     "name": "stdout",
     "output_type": "stream",
     "text": [
      "<class 'pandas.core.frame.DataFrame'>\n",
      "RangeIndex: 23502 entries, 0 to 23501\n",
      "Data columns (total 20 columns):\n",
      " #   Column  Non-Null Count  Dtype  \n",
      "---  ------  --------------  -----  \n",
      " 0   縣市      23502 non-null  int64  \n",
      " 1   鄉鎮市區    23502 non-null  object \n",
      " 2   路名      23502 non-null  object \n",
      " 3   土地面積    23502 non-null  float64\n",
      " 4   使用分區    23502 non-null  object \n",
      " 5   移轉層次    23502 non-null  int64  \n",
      " 6   總樓層數    23502 non-null  int64  \n",
      " 7   主要用途    23502 non-null  object \n",
      " 8   主要建材    23502 non-null  object \n",
      " 9   建物型態    23502 non-null  object \n",
      " 10  屋齡      23502 non-null  float64\n",
      " 11  建物面積    23502 non-null  float64\n",
      " 12  車位面積    23502 non-null  float64\n",
      " 13  車位個數    23502 non-null  float64\n",
      " 14  橫坐標     23502 non-null  int64  \n",
      " 15  縱坐標     23502 non-null  int64  \n",
      " 16  備註      23502 non-null  bool   \n",
      " 17  主建物面積   23502 non-null  float64\n",
      " 18  陽台面積    23502 non-null  float64\n",
      " 19  附屬建物面積  23502 non-null  float64\n",
      "dtypes: bool(1), float64(8), int64(5), object(6)\n",
      "memory usage: 3.4+ MB\n"
     ]
    }
   ],
   "source": [
    "from sklearn.preprocessing import LabelEncoder\n",
    "\n",
    "le = LabelEncoder()\n",
    "all_data['縣市'] = le.fit_transform(all_data['縣市'])\n",
    "\n",
    "all_data.info()\n"
   ]
  },
  {
   "cell_type": "markdown",
   "metadata": {},
   "source": [
    "#### Hash Encoding: `鄉鎮市區`, n_features=128"
   ]
  },
  {
   "cell_type": "code",
   "execution_count": 206,
   "metadata": {},
   "outputs": [
    {
     "name": "stdout",
     "output_type": "stream",
     "text": [
      "<class 'pandas.core.frame.DataFrame'>\n",
      "RangeIndex: 23502 entries, 0 to 23501\n",
      "Columns: 147 entries, 縣市 to 鄉鎮市區_127\n",
      "dtypes: bool(1), float64(136), int64(5), object(5)\n",
      "memory usage: 26.2+ MB\n"
     ]
    }
   ],
   "source": [
    "from sklearn.feature_extraction import FeatureHasher\n",
    "\n",
    "hasher = FeatureHasher(n_features=128, input_type='string')\n",
    "\n",
    "hashed_features = hasher.transform(district_names.values.reshape(-1, 1))\n",
    "\n",
    "hashed_features_df = pd.DataFrame(hashed_features.toarray()).add_prefix('鄉鎮市區_')\n",
    "\n",
    "# 將哈希編碼的特徵加到原始DataFrame中\n",
    "all_data = pd.concat([all_data, hashed_features_df], axis=1)\n",
    "all_data.drop(['鄉鎮市區'], axis=1, inplace=True)\n",
    "\n",
    "all_data.info()"
   ]
  },
  {
   "cell_type": "markdown",
   "metadata": {},
   "source": [
    "#### Hash Encoding: `路名`"
   ]
  },
  {
   "cell_type": "code",
   "execution_count": 207,
   "metadata": {},
   "outputs": [
    {
     "data": {
      "text/plain": [
       "(3881,)"
      ]
     },
     "execution_count": 207,
     "metadata": {},
     "output_type": "execute_result"
    }
   ],
   "source": [
    "all_data['路名'].unique().shape"
   ]
  },
  {
   "cell_type": "code",
   "execution_count": 208,
   "metadata": {},
   "outputs": [
    {
     "name": "stdout",
     "output_type": "stream",
     "text": [
      "<class 'pandas.core.frame.DataFrame'>\n",
      "RangeIndex: 23502 entries, 0 to 23501\n",
      "Columns: 402 entries, 縣市 to 路名_255\n",
      "dtypes: bool(1), float64(392), int64(5), object(4)\n",
      "memory usage: 71.9+ MB\n"
     ]
    }
   ],
   "source": [
    "road_names = all_data[['路名']]\n",
    "\n",
    "hasher = FeatureHasher(n_features=256, input_type='string')\n",
    "\n",
    "hashed_features = hasher.transform(road_names.values)\n",
    "\n",
    "hashed_features_df = pd.DataFrame(hashed_features.toarray()).add_prefix('路名_')\n",
    "\n",
    "# 將哈希編碼的特徵加到原始DataFrame中\n",
    "all_data = pd.concat([all_data, hashed_features_df], axis=1)\n",
    "all_data.drop(['路名'], axis=1, inplace=True)\n",
    "\n",
    "all_data.info()\n"
   ]
  },
  {
   "cell_type": "markdown",
   "metadata": {},
   "source": [
    "#### One-hot Encoding : `使用分區`"
   ]
  },
  {
   "cell_type": "code",
   "execution_count": 209,
   "metadata": {},
   "outputs": [
    {
     "data": {
      "text/plain": [
       "None    22318\n",
       "住         652\n",
       "其他        260\n",
       "商         163\n",
       "農          64\n",
       "工          45\n",
       "Name: 使用分區, dtype: int64"
      ]
     },
     "execution_count": 209,
     "metadata": {},
     "output_type": "execute_result"
    }
   ],
   "source": [
    "all_data['使用分區'].value_counts()"
   ]
  },
  {
   "cell_type": "code",
   "execution_count": 210,
   "metadata": {},
   "outputs": [
    {
     "name": "stdout",
     "output_type": "stream",
     "text": [
      "<class 'pandas.core.frame.DataFrame'>\n",
      "RangeIndex: 23502 entries, 0 to 23501\n",
      "Columns: 402 entries, 縣市 to 路名_255\n",
      "dtypes: bool(1), float64(392), int64(5), object(4)\n",
      "memory usage: 71.9+ MB\n"
     ]
    }
   ],
   "source": [
    "#all_data['使用分區'] = all_data.groupby('使用分區')['使用分區'].transform('count')\n",
    "\n",
    "### 測試其他編碼方法不會降低MAPE\n",
    "\n",
    "all_data.info()"
   ]
  },
  {
   "cell_type": "markdown",
   "metadata": {},
   "source": [
    "#### One-hot Encoding : `主要用途`"
   ]
  },
  {
   "cell_type": "code",
   "execution_count": 211,
   "metadata": {},
   "outputs": [
    {
     "data": {
      "text/plain": [
       "住家用      16400\n",
       "集合住宅      5343\n",
       "其他         978\n",
       "商業用        490\n",
       "一般事務所      154\n",
       "國民住宅        57\n",
       "住商用         24\n",
       "辦公室         21\n",
       "工業用         19\n",
       "住工用          9\n",
       "店鋪           6\n",
       "廠房           1\n",
       "Name: 主要用途, dtype: int64"
      ]
     },
     "execution_count": 211,
     "metadata": {},
     "output_type": "execute_result"
    }
   ],
   "source": [
    "all_data['主要用途'].value_counts()"
   ]
  },
  {
   "cell_type": "code",
   "execution_count": 212,
   "metadata": {},
   "outputs": [
    {
     "name": "stdout",
     "output_type": "stream",
     "text": [
      "<class 'pandas.core.frame.DataFrame'>\n",
      "RangeIndex: 23502 entries, 0 to 23501\n",
      "Columns: 402 entries, 縣市 to 路名_255\n",
      "dtypes: bool(1), float64(392), int64(5), object(4)\n",
      "memory usage: 71.9+ MB\n"
     ]
    }
   ],
   "source": [
    "#le = LabelEncoder()\n",
    "#all_data['主要用途'] = le.fit_transform(all_data['主要用途'])\n",
    "### 測試其他編碼方法不會降低MAPE\n",
    "\n",
    "all_data.info()"
   ]
  },
  {
   "cell_type": "markdown",
   "metadata": {},
   "source": [
    "#### One-hot Encoding : `主要建材`"
   ]
  },
  {
   "cell_type": "code",
   "execution_count": 213,
   "metadata": {},
   "outputs": [
    {
     "data": {
      "text/plain": [
       "住家用      16400\n",
       "集合住宅      5343\n",
       "其他         978\n",
       "商業用        490\n",
       "一般事務所      154\n",
       "國民住宅        57\n",
       "住商用         24\n",
       "辦公室         21\n",
       "工業用         19\n",
       "住工用          9\n",
       "店鋪           6\n",
       "廠房           1\n",
       "Name: 主要用途, dtype: int64"
      ]
     },
     "execution_count": 213,
     "metadata": {},
     "output_type": "execute_result"
    }
   ],
   "source": [
    "all_data['主要用途'].value_counts()"
   ]
  },
  {
   "cell_type": "code",
   "execution_count": 214,
   "metadata": {},
   "outputs": [
    {
     "name": "stdout",
     "output_type": "stream",
     "text": [
      "<class 'pandas.core.frame.DataFrame'>\n",
      "RangeIndex: 23502 entries, 0 to 23501\n",
      "Columns: 402 entries, 縣市 to 路名_255\n",
      "dtypes: bool(1), float64(392), int64(5), object(4)\n",
      "memory usage: 71.9+ MB\n"
     ]
    }
   ],
   "source": [
    "### 測試其他編碼方法不會降低MAPE\n",
    "all_data.info()"
   ]
  },
  {
   "cell_type": "markdown",
   "metadata": {},
   "source": [
    "#### One-hot Encoding : `建物型態`"
   ]
  },
  {
   "cell_type": "code",
   "execution_count": 215,
   "metadata": {},
   "outputs": [
    {
     "data": {
      "text/plain": [
       "住宅大樓(11層含以上有電梯)    14271\n",
       "公寓(5樓含以下無電梯)        4911\n",
       "華廈(10層含以下有電梯)       4308\n",
       "透天厝                   12\n",
       "Name: 建物型態, dtype: int64"
      ]
     },
     "execution_count": 215,
     "metadata": {},
     "output_type": "execute_result"
    }
   ],
   "source": [
    "all_data['建物型態'].value_counts()"
   ]
  },
  {
   "cell_type": "code",
   "execution_count": 216,
   "metadata": {},
   "outputs": [
    {
     "name": "stdout",
     "output_type": "stream",
     "text": [
      "<class 'pandas.core.frame.DataFrame'>\n",
      "RangeIndex: 23502 entries, 0 to 23501\n",
      "Columns: 402 entries, 縣市 to 路名_255\n",
      "dtypes: bool(1), float64(392), int64(5), object(4)\n",
      "memory usage: 71.9+ MB\n"
     ]
    }
   ],
   "source": [
    "### 測試其他編碼方法不會降低MAPE\n",
    "all_data.info()"
   ]
  },
  {
   "cell_type": "code",
   "execution_count": 217,
   "metadata": {},
   "outputs": [],
   "source": [
    "all_data = pd.get_dummies(all_data)"
   ]
  },
  {
   "cell_type": "markdown",
   "metadata": {},
   "source": [
    "### `model 2` : Label + hash + One-hot encoding\n",
    "\n",
    "#### `MAPE`: 10.3498%"
   ]
  },
  {
   "cell_type": "code",
   "execution_count": 218,
   "metadata": {},
   "outputs": [
    {
     "name": "stdout",
     "output_type": "stream",
     "text": [
      "X shape is (11751, 426)\n",
      "X_test shape is (11751, 426)\n"
     ]
    }
   ],
   "source": [
    "X = all_data[:train.shape[0]]\n",
    "X_test = all_data[train.shape[0]:]\n",
    "y = train[\"單價\"]\n",
    "print(\"X shape is {}\".format(X.shape))\n",
    "print(\"X_test shape is {}\".format(X_test.shape))"
   ]
  },
  {
   "cell_type": "code",
   "execution_count": 219,
   "metadata": {},
   "outputs": [
    {
     "data": {
      "text/plain": [
       "' %%time\\n\\nmodel2 = xgb.XGBRegressor(random_state=42)\\nmodel2_score = cross_val_score(model2, X, y, scoring=\\'neg_mean_absolute_percentage_error\\', cv=5)\\n\\nprint(model2_score)\\n\\nmodel2_score = -1 * model2_score.mean()\\n\\nprint(\"MAPE: %.4f%%\" % (model2_score * 100.0)) '"
      ]
     },
     "execution_count": 219,
     "metadata": {},
     "output_type": "execute_result"
    }
   ],
   "source": [
    "\"\"\" %%time\n",
    "\n",
    "model2 = xgb.XGBRegressor(random_state=42)\n",
    "model2_score = cross_val_score(model2, X, y, scoring='neg_mean_absolute_percentage_error', cv=5)\n",
    "\n",
    "print(model2_score)\n",
    "\n",
    "model2_score = -1 * model2_score.mean()\n",
    "\n",
    "print(\"MAPE: %.4f%%\" % (model2_score * 100.0)) \"\"\""
   ]
  },
  {
   "cell_type": "markdown",
   "metadata": {},
   "source": [
    "### 新增特徵"
   ]
  },
  {
   "cell_type": "markdown",
   "metadata": {},
   "source": [
    "#### 座標轉換"
   ]
  },
  {
   "cell_type": "code",
   "execution_count": 220,
   "metadata": {},
   "outputs": [
    {
     "name": "stdout",
     "output_type": "stream",
     "text": [
      "all_data shape : (23502, 426)\n",
      "coordinates shape : (23502, 2)\n"
     ]
    },
    {
     "data": {
      "text/html": [
       "<div>\n",
       "<style scoped>\n",
       "    .dataframe tbody tr th:only-of-type {\n",
       "        vertical-align: middle;\n",
       "    }\n",
       "\n",
       "    .dataframe tbody tr th {\n",
       "        vertical-align: top;\n",
       "    }\n",
       "\n",
       "    .dataframe thead th {\n",
       "        text-align: right;\n",
       "    }\n",
       "</style>\n",
       "<table border=\"1\" class=\"dataframe\">\n",
       "  <thead>\n",
       "    <tr style=\"text-align: right;\">\n",
       "      <th></th>\n",
       "      <th>lng</th>\n",
       "      <th>lat</th>\n",
       "    </tr>\n",
       "  </thead>\n",
       "  <tbody>\n",
       "    <tr>\n",
       "      <th>0</th>\n",
       "      <td>121.547608</td>\n",
       "      <td>25.022469</td>\n",
       "    </tr>\n",
       "    <tr>\n",
       "      <th>1</th>\n",
       "      <td>121.502124</td>\n",
       "      <td>25.019127</td>\n",
       "    </tr>\n",
       "    <tr>\n",
       "      <th>2</th>\n",
       "      <td>120.365799</td>\n",
       "      <td>22.640966</td>\n",
       "    </tr>\n",
       "    <tr>\n",
       "      <th>3</th>\n",
       "      <td>121.462402</td>\n",
       "      <td>25.058663</td>\n",
       "    </tr>\n",
       "    <tr>\n",
       "      <th>4</th>\n",
       "      <td>121.469444</td>\n",
       "      <td>25.023585</td>\n",
       "    </tr>\n",
       "  </tbody>\n",
       "</table>\n",
       "</div>"
      ],
      "text/plain": [
       "          lng        lat\n",
       "0  121.547608  25.022469\n",
       "1  121.502124  25.019127\n",
       "2  120.365799  22.640966\n",
       "3  121.462402  25.058663\n",
       "4  121.469444  25.023585"
      ]
     },
     "execution_count": 220,
     "metadata": {},
     "output_type": "execute_result"
    }
   ],
   "source": [
    "#### 座標轉換\n",
    "from pyproj import Transformer\n",
    "\n",
    "# Create a transformer object for TWD97 to WGS84 conversion\n",
    "transformer = Transformer.from_crs(\"epsg:3826\", \"epsg:4326\", always_xy=True)\n",
    "\n",
    "coordinates = pd.DataFrame()\n",
    "\n",
    "# Convert TWD97 coordinates to WGS84\n",
    "coordinates['lng'], coordinates['lat'] = transformer.transform(\n",
    "    all_data['橫坐標'].values, all_data['縱坐標'].values\n",
    ")\n",
    "\n",
    "# Now the all_data should have two new columns with the converted WGS84 latitude and longitude\n",
    "print(\"all_data shape :\", all_data.shape)\n",
    "print(\"coordinates shape :\",coordinates.shape)\n",
    "\n",
    "coordinates.head()"
   ]
  },
  {
   "cell_type": "code",
   "execution_count": 221,
   "metadata": {},
   "outputs": [],
   "source": [
    "from sklearn.neighbors import BallTree\n",
    "\n",
    "def count_facilities(tree, lat, lng, km):\n",
    "    radius = km * 1 / 6371  # 1 km in radians\n",
    "    indices = tree.query_radius(np.deg2rad([[lat, lng]]), r=radius)\n",
    "    return len(indices[0])\n",
    "\n",
    "def distance_to_nearest_facilities(tree, lat, lng, k = 1):\n",
    "    # 查詢最近點\n",
    "    dist, _ = tree.query(np.deg2rad([[lat, lng]]), k)\n",
    "    # 將弧度轉換為公里\n",
    "    return dist[0][0] * 6371\n",
    "\n",
    "def average_distance_to_nearest_facilities(tree, lat, lng, k=5):\n",
    "    # 查詢最近的 k 個鄰居，這裡 k=5\n",
    "    dist, _ = tree.query(np.deg2rad([[lat, lng]]), k=k)\n",
    "    # 將弧度轉換為公里並計算平均距離\n",
    "    return np.mean(dist[0]) * 6371"
   ]
  },
  {
   "cell_type": "markdown",
   "metadata": {},
   "source": [
    "#### `大學` : 5, 10 KM 內數量, 最近距離, 最近5平均距離"
   ]
  },
  {
   "cell_type": "code",
   "execution_count": 222,
   "metadata": {},
   "outputs": [
    {
     "name": "stdout",
     "output_type": "stream",
     "text": [
      "       num_universities_5km  num_universities_10km  \\\n",
      "count          23502.000000           23502.000000   \n",
      "mean               4.845247              14.496596   \n",
      "std                3.167643               7.672477   \n",
      "min                0.000000               0.000000   \n",
      "25%                2.000000               8.000000   \n",
      "50%                4.000000              13.000000   \n",
      "75%                7.000000              22.000000   \n",
      "max               13.000000              31.000000   \n",
      "\n",
      "       distance_to_nearest_university  \\\n",
      "count                    23502.000000   \n",
      "mean                         2.238220   \n",
      "std                          1.446047   \n",
      "min                          0.015906   \n",
      "25%                          1.158636   \n",
      "50%                          1.933558   \n",
      "75%                          3.032172   \n",
      "max                         17.495319   \n",
      "\n",
      "       average_distance_to_nearest_5_university  \n",
      "count                              23502.000000  \n",
      "mean                                   4.624908  \n",
      "std                                    8.743585  \n",
      "min                                    1.086867  \n",
      "25%                                    2.800110  \n",
      "50%                                    3.593578  \n",
      "75%                                    5.030988  \n",
      "max                                  171.825816  \n"
     ]
    }
   ],
   "source": [
    "# 載入大學基本資料\n",
    "university_data = pd.read_csv('30_Training Dataset_V2/external_data/大學基本資料.csv')\n",
    "\n",
    "# 去除重複的經緯度\n",
    "university_data.drop_duplicates(subset=['lat', 'lng'], inplace=True)\n",
    "\n",
    "# 創建 BallTree\n",
    "university_tree = BallTree(np.deg2rad(university_data[['lat', 'lng']].values), metric='haversine')\n",
    "\n",
    "# 迭代 all_data DataFrame 計算距離\n",
    "for idx, row in enumerate(all_data.itertuples()):\n",
    "    # 使用 idx 從 coordinates 中獲取對應的經緯度\n",
    "    lat = coordinates.loc[idx, 'lat']\n",
    "    lng = coordinates.loc[idx, 'lng']\n",
    "\n",
    "    # 新增四個特徵\n",
    "    all_data.at[idx, 'num_universities_5km'] = count_facilities(university_tree, lat, lng, 5)\n",
    "    all_data.at[idx, 'num_universities_10km'] = count_facilities(university_tree, lat, lng, 10)\n",
    "    all_data.at[idx, 'distance_to_nearest_university'] = distance_to_nearest_facilities(university_tree, lat, lng)\n",
    "    all_data.at[idx, 'average_distance_to_nearest_5_university'] = average_distance_to_nearest_facilities(university_tree, lat, lng)\n",
    "\n",
    "# 查看更新後的 DataFrame\n",
    "print(all_data[['num_universities_5km', 'num_universities_10km', 'distance_to_nearest_university', 'average_distance_to_nearest_5_university']].describe())\n",
    "\n"
   ]
  },
  {
   "cell_type": "markdown",
   "metadata": {},
   "source": [
    "#### `公車站` : 1, 5 KM 內數量, 最近距離, 最近5平均距離"
   ]
  },
  {
   "cell_type": "code",
   "execution_count": 223,
   "metadata": {},
   "outputs": [
    {
     "name": "stdout",
     "output_type": "stream",
     "text": [
      "       num_bus_stations_1km  num_bus_stations_5km  \\\n",
      "count          23502.000000          23502.000000   \n",
      "mean              70.060676           1168.702323   \n",
      "std               30.591222            475.743135   \n",
      "min                0.000000              0.000000   \n",
      "25%               50.000000            840.000000   \n",
      "50%               71.000000           1165.000000   \n",
      "75%               90.000000           1525.000000   \n",
      "max              179.000000           2125.000000   \n",
      "\n",
      "       distance_to_nearest_bus_stations  \\\n",
      "count                      23502.000000   \n",
      "mean                           0.927951   \n",
      "std                           11.402375   \n",
      "min                            0.000369   \n",
      "25%                            0.063292   \n",
      "50%                            0.101868   \n",
      "75%                            0.153684   \n",
      "max                          221.602953   \n",
      "\n",
      "       avg_distance_to_nearest_5_bus_stations  \n",
      "count                            23502.000000  \n",
      "mean                                 1.011075  \n",
      "std                                 11.463331  \n",
      "min                                  0.010069  \n",
      "25%                                  0.129066  \n",
      "50%                                  0.166724  \n",
      "75%                                  0.218753  \n",
      "max                                222.646907  \n"
     ]
    }
   ],
   "source": [
    "# 載入公車站點資料\n",
    "bus_station_data = pd.read_csv('30_Training Dataset_V2/external_data/公車站點資料.csv')\n",
    "\n",
    "# 去除重複的經緯度\n",
    "bus_station_data.drop_duplicates(subset=['lat', 'lng'], inplace=True)\n",
    "\n",
    "# 創建 BallTree\n",
    "bus_station_tree = BallTree(np.deg2rad(bus_station_data[['lat', 'lng']].values), metric='haversine')\n",
    "\n",
    "for idx, row in enumerate(all_data.itertuples()):\n",
    "    # 使用 idx 從 coordinates 中獲取對應的經緯度\n",
    "    lat = coordinates.loc[idx, 'lat']\n",
    "    lng = coordinates.loc[idx, 'lng']\n",
    "\n",
    "    # 新增四個特徵\n",
    "    all_data.at[idx, 'num_bus_stations_1km'] = count_facilities(bus_station_tree, lat, lng, km=1)\n",
    "    all_data.at[idx, 'num_bus_stations_5km'] = count_facilities(bus_station_tree, lat, lng, km=5)\n",
    "    all_data.at[idx, 'distance_to_nearest_bus_stations'] = distance_to_nearest_facilities(bus_station_tree, lat, lng)\n",
    "    all_data.at[idx, 'avg_distance_to_nearest_5_bus_stations'] = average_distance_to_nearest_facilities(bus_station_tree, lat, lng)\n",
    "\n",
    "# 查看更新後的 DataFrame\n",
    "print(all_data[['num_bus_stations_1km', 'num_bus_stations_5km', 'distance_to_nearest_bus_stations', 'avg_distance_to_nearest_5_bus_stations']].describe())\n"
   ]
  },
  {
   "cell_type": "markdown",
   "metadata": {},
   "source": [
    "#### `火車站` : 5, 10 KM 內數量, 最近距離, 最近5平均距離"
   ]
  },
  {
   "cell_type": "code",
   "execution_count": 224,
   "metadata": {},
   "outputs": [
    {
     "name": "stdout",
     "output_type": "stream",
     "text": [
      "       num_train_stations_5km  num_train_stations_10km  \\\n",
      "count            23502.000000             23502.000000   \n",
      "mean                 2.961365                 7.382436   \n",
      "std                  2.374145                 3.414419   \n",
      "min                  0.000000                 0.000000   \n",
      "25%                  1.000000                 5.000000   \n",
      "50%                  3.000000                 7.000000   \n",
      "75%                  4.000000                10.000000   \n",
      "max                 11.000000                21.000000   \n",
      "\n",
      "       distance_to_nearest_train_stations  \\\n",
      "count                        23502.000000   \n",
      "mean                             3.969237   \n",
      "std                             11.753643   \n",
      "min                              0.014152   \n",
      "25%                              1.393357   \n",
      "50%                              2.515636   \n",
      "75%                              4.380906   \n",
      "max                            228.633828   \n",
      "\n",
      "       avg_distance_to_nearest_5_train_stations  \n",
      "count                              23502.000000  \n",
      "mean                                   5.886617  \n",
      "std                                   11.656969  \n",
      "min                                    1.306476  \n",
      "25%                                    3.530805  \n",
      "50%                                    4.657345  \n",
      "75%                                    6.367507  \n",
      "max                                  229.593263  \n"
     ]
    }
   ],
   "source": [
    "# 載入火車站點資料\n",
    "train_station_data = pd.read_csv('30_Training Dataset_V2/external_data/火車站點資料.csv')\n",
    "\n",
    "# 去除重複的經緯度\n",
    "train_station_data.drop_duplicates(subset=['lat', 'lng'], inplace=True)\n",
    "\n",
    "# 創建 BallTree\n",
    "train_station_tree = BallTree(np.deg2rad(train_station_data[['lat', 'lng']].values), metric='haversine')\n",
    "\n",
    "\n",
    "\n",
    "for idx, row in enumerate(all_data.itertuples()):\n",
    "    # 使用 idx 從 coordinates 中獲取對應的經緯度\n",
    "    lat = coordinates.loc[idx, 'lat']\n",
    "    lng = coordinates.loc[idx, 'lng']\n",
    "\n",
    "    # 新增四個特徵\n",
    "    all_data.at[idx, 'num_train_stations_5km'] = count_facilities(train_station_tree, lat, lng, km=5)\n",
    "    all_data.at[idx, 'num_train_stations_10km'] = count_facilities(train_station_tree, lat, lng, km=10)\n",
    "    all_data.at[idx, 'distance_to_nearest_train_stations'] = distance_to_nearest_facilities(train_station_tree, lat, lng)\n",
    "    all_data.at[idx, 'avg_distance_to_nearest_5_train_stations'] = average_distance_to_nearest_facilities(train_station_tree, lat, lng)\n",
    "\n",
    "# 查看更新後的 DataFrame\n",
    "print(all_data[['num_train_stations_5km', 'num_train_stations_10km', 'distance_to_nearest_train_stations', 'avg_distance_to_nearest_5_train_stations']].describe())\n"
   ]
  },
  {
   "cell_type": "markdown",
   "metadata": {},
   "source": [
    "#### `金融機構` : 3, 5 KM 內數量, 最近距離, 最近5平均距離"
   ]
  },
  {
   "cell_type": "code",
   "execution_count": 225,
   "metadata": {},
   "outputs": [
    {
     "name": "stdout",
     "output_type": "stream",
     "text": [
      "       num_financial_institutions_3km  num_financial_institutions_5km  \\\n",
      "count                    23502.000000                    23502.000000   \n",
      "mean                       107.280146                      247.879117   \n",
      "std                        105.844375                      216.540073   \n",
      "min                          0.000000                        1.000000   \n",
      "25%                         38.000000                       85.000000   \n",
      "50%                         76.000000                      180.000000   \n",
      "75%                        136.000000                      322.000000   \n",
      "max                        555.000000                      836.000000   \n",
      "\n",
      "       distance_to_nearest_financial_institutions  \\\n",
      "count                                23502.000000   \n",
      "mean                                     0.361187   \n",
      "std                                      0.344575   \n",
      "min                                      0.001045   \n",
      "25%                                      0.138265   \n",
      "50%                                      0.265787   \n",
      "75%                                      0.472134   \n",
      "max                                      4.682410   \n",
      "\n",
      "       avg_distance_to_nearest_5_financial_institutions  \n",
      "count                                      23502.000000  \n",
      "mean                                           0.612880  \n",
      "std                                            0.504783  \n",
      "min                                            0.033155  \n",
      "25%                                            0.293836  \n",
      "50%                                            0.472449  \n",
      "75%                                            0.766194  \n",
      "max                                            7.795450  \n"
     ]
    }
   ],
   "source": [
    "# 載入金融機構基本資料\n",
    "financial_data = pd.read_csv('30_Training Dataset_V2/external_data/金融機構基本資料.csv')\n",
    "\n",
    "# 去除重複的經緯度\n",
    "financial_data.drop_duplicates(subset=['lat', 'lng'], inplace=True)\n",
    "\n",
    "# 創建 BallTree\n",
    "financial_tree = BallTree(np.deg2rad(financial_data[['lat', 'lng']].values), metric='haversine')\n",
    "\n",
    "for idx, row in enumerate(all_data.itertuples()):\n",
    "    # 使用 idx 從 coordinates 中獲取對應的經緯度\n",
    "    lat = coordinates.loc[idx, 'lat']\n",
    "    lng = coordinates.loc[idx, 'lng']\n",
    "\n",
    "    # 計算每個點附近的醫療機構數量\n",
    "    all_data.at[idx, 'num_financial_institutions_3km'] = count_facilities(financial_tree, lat, lng, km=3)\n",
    "    all_data.at[idx, 'num_financial_institutions_5km'] = count_facilities(financial_tree, lat, lng, km=5)\n",
    "    all_data.at[idx, 'distance_to_nearest_financial_institutions'] = distance_to_nearest_facilities(financial_tree, lat, lng)\n",
    "    all_data.at[idx, 'avg_distance_to_nearest_5_financial_institutions'] = average_distance_to_nearest_facilities(financial_tree, lat, lng)\n",
    "\n",
    "\n",
    "# 查看更新後的 DataFrame\n",
    "print(all_data[['num_financial_institutions_3km', 'num_financial_institutions_5km', 'distance_to_nearest_financial_institutions', 'avg_distance_to_nearest_5_financial_institutions']].describe())\n"
   ]
  },
  {
   "cell_type": "markdown",
   "metadata": {},
   "source": [
    "#### `便利商店` : 1, 2 KM 內數量, 最近距離, 最近5平均距離"
   ]
  },
  {
   "cell_type": "code",
   "execution_count": 226,
   "metadata": {},
   "outputs": [
    {
     "name": "stdout",
     "output_type": "stream",
     "text": [
      "       num_convenience_stores_1km  num_convenience_stores_2km  \\\n",
      "count                23502.000000                23502.000000   \n",
      "mean                    39.789635                  128.603693   \n",
      "std                     24.956685                   81.336967   \n",
      "min                      0.000000                    0.000000   \n",
      "25%                     21.000000                   68.000000   \n",
      "50%                     34.000000                  110.000000   \n",
      "75%                     53.000000                  176.000000   \n",
      "max                    153.000000                  408.000000   \n",
      "\n",
      "       distance_to_nearest_convenience_stores  \\\n",
      "count                            23502.000000   \n",
      "mean                                 0.120765   \n",
      "std                                  0.105634   \n",
      "min                                  0.000751   \n",
      "25%                                  0.060421   \n",
      "50%                                  0.097894   \n",
      "75%                                  0.150287   \n",
      "max                                  2.554800   \n",
      "\n",
      "       avg_distance_to_nearest_5_convenience_stores  \n",
      "count                                  23502.000000  \n",
      "mean                                       0.244643  \n",
      "std                                        0.159621  \n",
      "min                                        0.041890  \n",
      "25%                                        0.159834  \n",
      "50%                                        0.209396  \n",
      "75%                                        0.284979  \n",
      "max                                        3.588694  \n"
     ]
    }
   ],
   "source": [
    "# 載入便利商店資料\n",
    "convenience_store_data = pd.read_csv('30_Training Dataset_V2/external_data/便利商店.csv')\n",
    "\n",
    "# 去除經緯度為空的資料\n",
    "convenience_store_data.dropna(subset=['lat', 'lng'], inplace=True)\n",
    "\n",
    "# 去除重複的經緯度\n",
    "convenience_store_data.drop_duplicates(subset=['lat', 'lng'], inplace=True)\n",
    "\n",
    "# 創建 BallTree\n",
    "convenience_store_tree = BallTree(np.deg2rad(convenience_store_data[['lat', 'lng']].values), metric='haversine')\n",
    "\n",
    "\n",
    "for idx, row in enumerate(all_data.itertuples()):\n",
    "    # 使用 idx 從 coordinates 中獲取對應的經緯度\n",
    "    lat = coordinates.loc[idx, 'lat']\n",
    "    lng = coordinates.loc[idx, 'lng']\n",
    "\n",
    "    # 創建四個特徵\n",
    "    all_data.at[idx, 'num_convenience_stores_1km'] = count_facilities(convenience_store_tree, lat, lng, km=1)\n",
    "    all_data.at[idx, 'num_convenience_stores_2km'] = count_facilities(convenience_store_tree, lat, lng, km=2)\n",
    "    all_data.at[idx, 'distance_to_nearest_convenience_stores'] = distance_to_nearest_facilities(convenience_store_tree, lat, lng)\n",
    "    all_data.at[idx, 'avg_distance_to_nearest_5_convenience_stores'] = average_distance_to_nearest_facilities(convenience_store_tree, lat, lng)\n",
    "\n",
    "# 查看更新後的 DataFrame\n",
    "print(all_data[['num_convenience_stores_1km', 'num_convenience_stores_2km', 'distance_to_nearest_convenience_stores', 'avg_distance_to_nearest_5_convenience_stores']].describe())\n"
   ]
  },
  {
   "cell_type": "markdown",
   "metadata": {},
   "source": [
    "#### `科學園區` : 最近的距離"
   ]
  },
  {
   "cell_type": "code",
   "execution_count": 227,
   "metadata": {},
   "outputs": [
    {
     "name": "stdout",
     "output_type": "stream",
     "text": [
      "count    23502.000000\n",
      "mean         4.963971\n",
      "std         10.441665\n",
      "min          0.127250\n",
      "25%          2.437649\n",
      "50%          3.976379\n",
      "75%          6.017188\n",
      "max        205.651579\n",
      "Name: distance_to_nearest_science_park, dtype: float64\n"
     ]
    }
   ],
   "source": [
    "science_park_data = pd.read_csv('30_Training Dataset_V2/external_data/科技工業園區.csv')\n",
    "\n",
    "# 轉換成 WGS84 經緯度\n",
    "transformer = Transformer.from_crs(\"epsg:3826\", \"epsg:4326\", always_xy=True)\n",
    "science_park_data['lng'], science_park_data['lat'] = transformer.transform(science_park_data['X'].values, science_park_data['Y'].values)\n",
    "\n",
    "# 去除重複的經緯度\n",
    "science_park_data.drop_duplicates(subset=['lat', 'lng'], inplace=True)\n",
    "\n",
    "# 創建 BallTree\n",
    "science_park_tree = BallTree(np.deg2rad(science_park_data[['lat', 'lng']].values), metric='haversine')\n",
    "\n",
    "\n",
    "for idx, row in enumerate(all_data.itertuples()):\n",
    "    lat = coordinates.loc[idx, 'lat']\n",
    "    lng = coordinates.loc[idx, 'lng']\n",
    "\n",
    "    # 新增特徵\n",
    "    all_data.at[idx, 'distance_to_nearest_science_park'] = distance_to_nearest_facilities(science_park_tree, lat, lng)\n",
    "\n",
    "# 查看更新後的 DataFrame\n",
    "print(all_data['distance_to_nearest_science_park'].describe())\n",
    "\n"
   ]
  },
  {
   "cell_type": "code",
   "execution_count": 228,
   "metadata": {},
   "outputs": [
    {
     "name": "stdout",
     "output_type": "stream",
     "text": [
      "       num_park_3km  num_park_5km  distance_to_nearest_park  \\\n",
      "count  23502.000000  23502.000000              23502.000000   \n",
      "mean      13.886010     35.235937                  2.627569   \n",
      "std       17.095508     40.384781                  6.329286   \n",
      "min        0.000000      0.000000                  0.005234   \n",
      "25%        0.000000      1.000000                  0.503175   \n",
      "50%        4.000000     12.000000                  1.180180   \n",
      "75%       25.000000     67.000000                  3.070018   \n",
      "max       64.000000    140.000000                113.833248   \n",
      "\n",
      "       avg_distance_to_nearest_5_park  \n",
      "count                    23502.000000  \n",
      "mean                         5.254340  \n",
      "std                          8.735072  \n",
      "min                          0.132066  \n",
      "25%                          0.961615  \n",
      "50%                          2.295499  \n",
      "75%                          7.458985  \n",
      "max                        128.587945  \n"
     ]
    }
   ],
   "source": [
    "park_data = pd.read_csv('30_Training Dataset_V2/external_data/Park.csv')\n",
    "\n",
    "# 去除重複的經緯度\n",
    "park_data.drop_duplicates(subset=['lat', 'lng'], inplace=True)\n",
    "\n",
    "# 創建 BallTree\n",
    "park_tree = BallTree(np.deg2rad(park_data[['lat', 'lng']].values), metric='haversine')\n",
    "\n",
    "\n",
    "for idx, row in enumerate(all_data.itertuples()):\n",
    "    lat = coordinates.loc[idx, 'lat']\n",
    "    lng = coordinates.loc[idx, 'lng']\n",
    "\n",
    "    # 新增特徵\n",
    "    all_data.at[idx, 'num_park_3km'] = count_facilities(park_tree, lat, lng, km=3)\n",
    "    all_data.at[idx, 'num_park_5km'] = count_facilities(park_tree, lat, lng, km=5)\n",
    "    all_data.at[idx, 'distance_to_nearest_park'] = distance_to_nearest_facilities(park_tree, lat, lng)\n",
    "    all_data.at[idx, 'avg_distance_to_nearest_5_park'] = average_distance_to_nearest_facilities(park_tree, lat, lng)\n",
    "# 查看更新後的 DataFrame\n",
    "print(all_data[['num_park_3km', 'num_park_5km', 'distance_to_nearest_park', 'avg_distance_to_nearest_5_park']].describe())\n",
    "\n"
   ]
  },
  {
   "cell_type": "markdown",
   "metadata": {},
   "source": [
    "#### `高中` : 3, 5 KM 內數量, 最近距離, 最近5平均距離"
   ]
  },
  {
   "cell_type": "code",
   "execution_count": 229,
   "metadata": {},
   "outputs": [
    {
     "name": "stdout",
     "output_type": "stream",
     "text": [
      "       num_high_schools_3km  num_high_schools_5km  \\\n",
      "count          23502.000000          23502.000000   \n",
      "mean               7.107438             17.049315   \n",
      "std                5.015561             11.329539   \n",
      "min                0.000000              0.000000   \n",
      "25%                3.000000              8.000000   \n",
      "50%                6.000000             15.000000   \n",
      "75%               10.000000             23.000000   \n",
      "max               24.000000             47.000000   \n",
      "\n",
      "       distance_to_nearest_high_schools  \\\n",
      "count                      23502.000000   \n",
      "mean                           1.045091   \n",
      "std                            0.785088   \n",
      "min                            0.000844   \n",
      "25%                            0.509399   \n",
      "50%                            0.831900   \n",
      "75%                            1.344526   \n",
      "max                            8.555398   \n",
      "\n",
      "       avg_distance_to_nearest_5_high_schools  \n",
      "count                            23502.000000  \n",
      "mean                                 2.388337  \n",
      "std                                  5.524475  \n",
      "min                                  0.260299  \n",
      "25%                                  1.321687  \n",
      "50%                                  1.764177  \n",
      "75%                                  2.687215  \n",
      "max                                110.214698  \n"
     ]
    }
   ],
   "source": [
    "# 載入高中基本資料\n",
    "high_school_data = pd.read_csv('30_Training Dataset_V2/external_data/高中基本資料.csv')\n",
    "\n",
    "# 去除重複的經緯度\n",
    "high_school_data.drop_duplicates(subset=['lat', 'lng'], inplace=True)\n",
    "\n",
    "# 創建 BallTree\n",
    "high_school_tree = BallTree(np.deg2rad(high_school_data[['lat', 'lng']].values), metric='haversine')\n",
    "\n",
    "for idx, row in enumerate(all_data.itertuples()):\n",
    "    # 使用 idx 從 coordinates 中獲取對應的經緯度\n",
    "    lat = coordinates.loc[idx, 'lat']\n",
    "    lng = coordinates.loc[idx, 'lng']\n",
    "\n",
    "    # 新增四個特徵\n",
    "    all_data.at[idx, 'num_high_schools_3km'] = count_facilities(high_school_tree, lat, lng, km=3)\n",
    "    all_data.at[idx, 'num_high_schools_5km'] = count_facilities(high_school_tree, lat, lng, km=5)\n",
    "    all_data.at[idx, 'distance_to_nearest_high_schools'] = distance_to_nearest_facilities(high_school_tree, lat, lng)\n",
    "    all_data.at[idx, 'avg_distance_to_nearest_5_high_schools'] = average_distance_to_nearest_facilities(high_school_tree, lat, lng)\n",
    "\n",
    "\n",
    "# 查看更新後的 DataFrame\n",
    "print(all_data[['num_high_schools_3km', 'num_high_schools_5km', 'distance_to_nearest_high_schools', 'avg_distance_to_nearest_5_high_schools']].describe())"
   ]
  },
  {
   "cell_type": "markdown",
   "metadata": {},
   "source": [
    "#### `國小` : 3, 5 KM 內數量, 最近距離, 最近5平均距離"
   ]
  },
  {
   "cell_type": "code",
   "execution_count": 230,
   "metadata": {},
   "outputs": [
    {
     "name": "stdout",
     "output_type": "stream",
     "text": [
      "       num_elementary_schools_3km  num_elementary_schools_5km  \\\n",
      "count                23502.000000                23502.000000   \n",
      "mean                    16.112373                   39.364565   \n",
      "std                      8.464501                   20.511553   \n",
      "min                      1.000000                    2.000000   \n",
      "25%                     10.000000                   22.000000   \n",
      "50%                     14.000000                   36.000000   \n",
      "75%                     21.000000                   53.000000   \n",
      "max                     43.000000                   91.000000   \n",
      "\n",
      "       distance_to_nearest_elementary_schools  \\\n",
      "count                            23502.000000   \n",
      "mean                                 0.512435   \n",
      "std                                  0.308855   \n",
      "min                                  0.010019   \n",
      "25%                                  0.296748   \n",
      "50%                                  0.446629   \n",
      "75%                                  0.646383   \n",
      "max                                  2.481746   \n",
      "\n",
      "       avg_distance_to_nearest_5_elementary_schools  \n",
      "count                                  23502.000000  \n",
      "mean                                       1.139149  \n",
      "std                                        0.449770  \n",
      "min                                        0.284875  \n",
      "25%                                        0.832048  \n",
      "50%                                        1.034196  \n",
      "75%                                        1.317003  \n",
      "max                                        4.450685  \n"
     ]
    }
   ],
   "source": [
    "# 載入國小基本資料\n",
    "elementary_school_data = pd.read_csv('30_Training Dataset_V2/external_data/國小基本資料.csv')\n",
    "\n",
    "# 去除重複的經緯度\n",
    "elementary_school_data.drop_duplicates(subset=['lat', 'lng'], inplace=True)\n",
    "\n",
    "# 創建 BallTree\n",
    "elementary_school_tree = BallTree(np.deg2rad(elementary_school_data[['lat', 'lng']].values), metric='haversine')\n",
    "\n",
    "for idx, row in enumerate(all_data.itertuples()):\n",
    "    # 使用 idx 從 coordinates 中獲取對應的經緯度\n",
    "    lat = coordinates.loc[idx, 'lat']\n",
    "    lng = coordinates.loc[idx, 'lng']\n",
    "\n",
    "    # 新增四個特徵\n",
    "    all_data.at[idx, 'num_elementary_schools_3km'] = count_facilities(elementary_school_tree, lat, lng, km=3)\n",
    "    all_data.at[idx, 'num_elementary_schools_5km'] = count_facilities(elementary_school_tree, lat, lng, km=5)\n",
    "    all_data.at[idx, 'distance_to_nearest_elementary_schools'] = distance_to_nearest_facilities(elementary_school_tree, lat, lng)\n",
    "    all_data.at[idx, 'avg_distance_to_nearest_5_elementary_schools'] = average_distance_to_nearest_facilities(elementary_school_tree, lat, lng)\n",
    "\n",
    "\n",
    "# 查看更新後的 DataFrame\n",
    "print(all_data[['num_elementary_schools_3km', 'num_elementary_schools_5km', 'distance_to_nearest_elementary_schools', 'avg_distance_to_nearest_5_elementary_schools']].describe())"
   ]
  },
  {
   "cell_type": "markdown",
   "metadata": {},
   "source": [
    "#### `國中` : 3, 5 KM 內數量, 最近距離, 最近5平均距離"
   ]
  },
  {
   "cell_type": "code",
   "execution_count": 231,
   "metadata": {},
   "outputs": [
    {
     "name": "stdout",
     "output_type": "stream",
     "text": [
      "       num_junior_high_schools_3km  num_junior_high_schools_5km  \\\n",
      "count                 23502.000000                 23502.000000   \n",
      "mean                      9.808101                    23.400604   \n",
      "std                       5.352231                    12.728366   \n",
      "min                       0.000000                     0.000000   \n",
      "25%                       6.000000                    13.000000   \n",
      "50%                       9.000000                    22.000000   \n",
      "75%                      13.000000                    31.000000   \n",
      "max                      27.000000                    55.000000   \n",
      "\n",
      "       distance_to_nearest_junior_high_schools  \\\n",
      "count                             23502.000000   \n",
      "mean                                  0.680651   \n",
      "std                                   0.414131   \n",
      "min                                   0.011246   \n",
      "25%                                   0.389820   \n",
      "50%                                   0.593588   \n",
      "75%                                   0.870774   \n",
      "max                                   5.025305   \n",
      "\n",
      "       avg_distance_to_nearest_5_junior_high_schools  \n",
      "count                                   23502.000000  \n",
      "mean                                        1.538431  \n",
      "std                                         0.727294  \n",
      "min                                         0.489768  \n",
      "25%                                         1.092651  \n",
      "50%                                         1.355579  \n",
      "75%                                         1.741243  \n",
      "max                                        11.125840  \n"
     ]
    }
   ],
   "source": [
    "# 載入國中基本資料\n",
    "junior_high_school_data = pd.read_csv('30_Training Dataset_V2/external_data/國中基本資料.csv')\n",
    "\n",
    "# 去除重複的經緯度\n",
    "junior_high_school_data.drop_duplicates(subset=['lat', 'lng'], inplace=True)\n",
    "\n",
    "# 創建 BallTree\n",
    "junior_high_school_tree = BallTree(np.deg2rad(junior_high_school_data[['lat', 'lng']].values), metric='haversine')\n",
    "\n",
    "\n",
    "for idx, row in enumerate(all_data.itertuples()):\n",
    "    # 使用 idx 從 coordinates 中獲取對應的經緯度\n",
    "    lat = coordinates.loc[idx, 'lat']\n",
    "    lng = coordinates.loc[idx, 'lng']\n",
    "\n",
    "    # 新增四個特徵\n",
    "    all_data.at[idx, 'num_junior_high_schools_3km'] = count_facilities(junior_high_school_tree, lat, lng, km=3)\n",
    "    all_data.at[idx, 'num_junior_high_schools_5km'] = count_facilities(junior_high_school_tree, lat, lng, km=5)\n",
    "    all_data.at[idx, 'distance_to_nearest_junior_high_schools'] = distance_to_nearest_facilities(junior_high_school_tree, lat, lng)\n",
    "    all_data.at[idx, 'avg_distance_to_nearest_5_junior_high_schools'] = average_distance_to_nearest_facilities(junior_high_school_tree, lat, lng)\n",
    "\n",
    "\n",
    "# 查看更新後的 DataFrame\n",
    "print(all_data[['num_junior_high_schools_3km', 'num_junior_high_schools_5km', 'distance_to_nearest_junior_high_schools', 'avg_distance_to_nearest_5_junior_high_schools']].describe())"
   ]
  },
  {
   "cell_type": "markdown",
   "metadata": {},
   "source": [
    "#### `捷運站` : 3, 5 KM 內數量, 最近距離, 最近5平均距離"
   ]
  },
  {
   "cell_type": "code",
   "execution_count": 232,
   "metadata": {},
   "outputs": [
    {
     "name": "stdout",
     "output_type": "stream",
     "text": [
      "       num_metros_3km  num_metros_5km  distance_to_nearest_metrons  \\\n",
      "count    23502.000000    23502.000000                 23502.000000   \n",
      "mean         7.471109       17.865288                    14.960486   \n",
      "std          7.889923       17.305613                    33.228299   \n",
      "min          0.000000        0.000000                     0.006895   \n",
      "25%          0.000000        0.000000                     0.492547   \n",
      "50%          5.000000       15.000000                     1.098174   \n",
      "75%         12.000000       31.000000                     7.728923   \n",
      "max         36.000000       57.000000                   275.844520   \n",
      "\n",
      "       avg_distance_to_nearest_5_metros  \n",
      "count                      23502.000000  \n",
      "mean                          16.120550  \n",
      "std                           33.771758  \n",
      "min                            0.461946  \n",
      "25%                            1.133731  \n",
      "50%                            1.846617  \n",
      "75%                            8.848332  \n",
      "max                          278.697438  \n"
     ]
    }
   ],
   "source": [
    "# 載入捷運站點資料\n",
    "metro_data = pd.read_csv('30_Training Dataset_V2/external_data/捷運站點資料.csv')\n",
    "\n",
    "# 去除重複的經緯度\n",
    "metro_data.drop_duplicates(subset=['lat', 'lng'], inplace=True)\n",
    "\n",
    "# 創建 BallTree\n",
    "metro_tree = BallTree(np.deg2rad(metro_data[['lat', 'lng']].values), metric='haversine')\n",
    "\n",
    "\n",
    "for idx, row in enumerate(all_data.itertuples()):\n",
    "    # 使用 idx 從 coordinates 中獲取對應的經緯度\n",
    "    lat = coordinates.loc[idx, 'lat']\n",
    "    lng = coordinates.loc[idx, 'lng']\n",
    "\n",
    "    # 新增四個特徵\n",
    "    all_data.at[idx, 'num_metros_3km'] = count_facilities(metro_tree, lat, lng, km=3)\n",
    "    all_data.at[idx, 'num_metros_5km'] = count_facilities(metro_tree, lat, lng, km=5)\n",
    "    all_data.at[idx, 'distance_to_nearest_metrons'] = distance_to_nearest_facilities(metro_tree, lat, lng)\n",
    "    all_data.at[idx, 'avg_distance_to_nearest_5_metros'] = average_distance_to_nearest_facilities(metro_tree, lat, lng)\n",
    "\n",
    "\n",
    "# 查看更新後的 DataFrame\n",
    "print(all_data[['num_metros_3km', 'num_metros_5km', 'distance_to_nearest_metrons', 'avg_distance_to_nearest_5_metros']].describe())"
   ]
  },
  {
   "cell_type": "markdown",
   "metadata": {},
   "source": [
    "#### `郵局` : 3, 5 KM 內數量, 最近距離, 最近5平均距離"
   ]
  },
  {
   "cell_type": "code",
   "execution_count": 233,
   "metadata": {},
   "outputs": [
    {
     "name": "stdout",
     "output_type": "stream",
     "text": [
      "       num_post_offices_3km  num_post_offices_5km  \\\n",
      "count          23502.000000          23502.000000   \n",
      "mean              17.809506             42.789550   \n",
      "std               12.157432             28.089489   \n",
      "min                0.000000              1.000000   \n",
      "25%                8.000000             21.000000   \n",
      "50%               15.000000             36.000000   \n",
      "75%               24.000000             60.000000   \n",
      "max               62.000000            109.000000   \n",
      "\n",
      "       distance_to_nearest_post_offices  \\\n",
      "count                      23502.000000   \n",
      "mean                           0.514880   \n",
      "std                            0.350013   \n",
      "min                            0.002185   \n",
      "25%                            0.280179   \n",
      "50%                            0.445300   \n",
      "75%                            0.657847   \n",
      "max                            4.087681   \n",
      "\n",
      "       avg_distance_to_nearest_5_post_offices  \n",
      "count                            23502.000000  \n",
      "mean                                 1.193169  \n",
      "std                                  0.607740  \n",
      "min                                  0.203862  \n",
      "25%                                  0.806249  \n",
      "50%                                  1.053907  \n",
      "75%                                  1.408470  \n",
      "max                                  8.556370  \n"
     ]
    }
   ],
   "source": [
    "# 載入郵局據點資料\n",
    "post_office_data = pd.read_csv('30_Training Dataset_V2/external_data/郵局據點資料.csv')\n",
    "\n",
    "# 去除重複的經緯度\n",
    "post_office_data.drop_duplicates(subset=['lat', 'lng'], inplace=True)\n",
    "\n",
    "# 創建 BallTree\n",
    "post_office_tree = BallTree(np.deg2rad(post_office_data[['lat', 'lng']].values), metric='haversine')\n",
    "\n",
    "for idx, row in enumerate(all_data.itertuples()):\n",
    "    # 使用 idx 從 coordinates 中獲取對應的經緯度\n",
    "    lat = coordinates.loc[idx, 'lat']\n",
    "    lng = coordinates.loc[idx, 'lng']\n",
    "\n",
    "    # 創建四個特徵\n",
    "    all_data.at[idx, 'num_post_offices_3km'] = count_facilities(post_office_tree, lat, lng, km=3)\n",
    "    all_data.at[idx, 'num_post_offices_5km'] = count_facilities(post_office_tree, lat, lng, km=5)\n",
    "    all_data.at[idx, 'distance_to_nearest_post_offices'] = distance_to_nearest_facilities(post_office_tree, lat, lng)\n",
    "    all_data.at[idx, 'avg_distance_to_nearest_5_post_offices'] = average_distance_to_nearest_facilities(post_office_tree, lat, lng)\n",
    "\n",
    "\n",
    "# 查看更新後的 DataFrame\n",
    "print(all_data[['num_post_offices_3km', 'num_post_offices_5km', 'distance_to_nearest_post_offices', 'avg_distance_to_nearest_5_post_offices']].describe())"
   ]
  },
  {
   "cell_type": "markdown",
   "metadata": {},
   "source": [
    "#### `腳踏車站` : 3, 5 KM 內數量, 最近距離, 最近5平均距離"
   ]
  },
  {
   "cell_type": "code",
   "execution_count": 234,
   "metadata": {},
   "outputs": [
    {
     "name": "stdout",
     "output_type": "stream",
     "text": [
      "       num_bike_stations_3km  num_bike_stations_5km  \\\n",
      "count           23502.000000           23502.000000   \n",
      "mean              165.456685             393.434729   \n",
      "std               118.257622             277.185524   \n",
      "min                 0.000000               0.000000   \n",
      "25%                64.000000             131.000000   \n",
      "50%               157.000000             393.000000   \n",
      "75%               262.000000             617.000000   \n",
      "max               493.000000             986.000000   \n",
      "\n",
      "       distance_to_nearest_bike_stations  \\\n",
      "count                       23502.000000   \n",
      "mean                            1.290871   \n",
      "std                            11.734327   \n",
      "min                             0.000210   \n",
      "25%                             0.099761   \n",
      "50%                             0.156688   \n",
      "75%                             0.240080   \n",
      "max                           224.081617   \n",
      "\n",
      "       avg_distance_to_nearest_5_bike_stations  \n",
      "count                             23502.000000  \n",
      "mean                                  1.533558  \n",
      "std                                  11.948450  \n",
      "min                                   0.044874  \n",
      "25%                                   0.229362  \n",
      "50%                                   0.290003  \n",
      "75%                                   0.418938  \n",
      "max                                 225.945249  \n"
     ]
    }
   ],
   "source": [
    "# 載入腳踏車站點資料\n",
    "bike_station_data = pd.read_csv('30_Training Dataset_V2/external_data/腳踏車站點資料.csv')\n",
    "\n",
    "# 去除重複的經緯度\n",
    "bike_station_data.drop_duplicates(subset=['lat', 'lng'], inplace=True)\n",
    "\n",
    "# 創建 BallTree\n",
    "bike_station_tree = BallTree(np.deg2rad(bike_station_data[['lat', 'lng']].values), metric='haversine')\n",
    "\n",
    "for idx, row in enumerate(all_data.itertuples()):\n",
    "    # 使用 idx 從 coordinates 中獲取對應的經緯度\n",
    "    lat = coordinates.loc[idx, 'lat']\n",
    "    lng = coordinates.loc[idx, 'lng']\n",
    "\n",
    "    # 創建四個特徵：\n",
    "    all_data.at[idx, 'num_bike_stations_3km'] = count_facilities(bike_station_tree, lat, lng, km=3)\n",
    "    all_data.at[idx, 'num_bike_stations_5km'] = count_facilities(bike_station_tree, lat, lng, km=5)\n",
    "    all_data.at[idx, 'distance_to_nearest_bike_stations'] = distance_to_nearest_facilities(bike_station_tree, lat, lng)\n",
    "    all_data.at[idx, 'avg_distance_to_nearest_5_bike_stations'] = average_distance_to_nearest_facilities(bike_station_tree, lat, lng)\n",
    "\n",
    "\n",
    "# 查看更新後的 DataFrame\n",
    "print(all_data[['num_bike_stations_3km', 'num_bike_stations_5km', 'distance_to_nearest_bike_stations', 'avg_distance_to_nearest_5_bike_stations']].describe())"
   ]
  },
  {
   "cell_type": "markdown",
   "metadata": {},
   "source": [
    "#### `醫療機構` : 3, 5 KM 內數量, 最近距離, 最近5平均距離"
   ]
  },
  {
   "cell_type": "code",
   "execution_count": 235,
   "metadata": {},
   "outputs": [
    {
     "name": "stdout",
     "output_type": "stream",
     "text": [
      "        num_med_3km   num_med_5km  distance_to_nearest_medical_institutions  \\\n",
      "count  23502.000000  23502.000000                              23502.000000   \n",
      "mean     484.993235   1106.613565                                  0.168088   \n",
      "std      366.133137    770.520228                                  0.209053   \n",
      "min        0.000000      4.000000                                  0.000589   \n",
      "25%      175.000000    436.000000                                  0.055113   \n",
      "50%      405.000000   1004.000000                                  0.103925   \n",
      "75%      721.000000   1660.000000                                  0.197084   \n",
      "max     1705.000000   3000.000000                                  4.397377   \n",
      "\n",
      "       avg_distance_to_nearest_5_medical_institutions  \n",
      "count                                    23502.000000  \n",
      "mean                                         0.270635  \n",
      "std                                          0.267980  \n",
      "min                                          0.017167  \n",
      "25%                                          0.116950  \n",
      "50%                                          0.186488  \n",
      "75%                                          0.322082  \n",
      "max                                          4.534553  \n"
     ]
    }
   ],
   "source": [
    "# 載入醫療機構資料\n",
    "medical_data = pd.read_csv('30_Training Dataset_V2/external_data/醫療機構基本資料.csv')\n",
    "\n",
    "# 去除重複的經緯度\n",
    "medical_data.drop_duplicates(subset=['lat', 'lng'], inplace=True)\n",
    "\n",
    "# 創建 BallTree\n",
    "medical_tree = BallTree(np.deg2rad(medical_data[['lat', 'lng']].values), metric='haversine')\n",
    "\n",
    "for idx, row in enumerate(all_data.itertuples()):\n",
    "    # 使用 idx 從 coordinates 中獲取對應的經緯度\n",
    "    lat = coordinates.loc[idx, 'lat']\n",
    "    lng = coordinates.loc[idx, 'lng']\n",
    "\n",
    "    # 創建四個特徵\n",
    "    all_data.at[idx, 'num_med_3km'] = count_facilities(medical_tree, lat, lng, km=3)\n",
    "    all_data.at[idx, 'num_med_5km'] = count_facilities(medical_tree, lat, lng, km=5)\n",
    "    all_data.at[idx, 'distance_to_nearest_medical_institutions'] = distance_to_nearest_facilities(medical_tree, lat, lng)\n",
    "    all_data.at[idx, 'avg_distance_to_nearest_5_medical_institutions'] = average_distance_to_nearest_facilities(medical_tree, lat, lng)\n",
    "\n",
    "\n",
    "# 查看更新後的 DataFrame\n",
    "print(all_data[['num_med_3km', 'num_med_5km', 'distance_to_nearest_medical_institutions', 'avg_distance_to_nearest_5_medical_institutions']].describe())\n"
   ]
  },
  {
   "cell_type": "markdown",
   "metadata": {},
   "source": [
    "#### `ATM` : 2, 5 KM 內數量, 最近距離, 最近5平均距離"
   ]
  },
  {
   "cell_type": "code",
   "execution_count": 236,
   "metadata": {},
   "outputs": [
    {
     "name": "stdout",
     "output_type": "stream",
     "text": [
      "       num_ATMs_2km  num_ATMs_5km  distance_to_nearest_ATM  \\\n",
      "count  23502.000000  23502.000000             23502.000000   \n",
      "mean     197.666241    930.490384                 0.109442   \n",
      "std      140.384365    645.774031                 0.098133   \n",
      "min        0.000000      7.000000                 0.000396   \n",
      "25%       96.000000    431.000000                 0.053562   \n",
      "50%      164.000000    737.000000                 0.088090   \n",
      "75%      261.000000   1359.000000                 0.136973   \n",
      "max      746.000000   2513.000000                 2.074883   \n",
      "\n",
      "       avg_distance_to_nearest_5_ATMs  \n",
      "count                    23502.000000  \n",
      "mean                         0.210874  \n",
      "std                          0.139694  \n",
      "min                          0.014224  \n",
      "25%                          0.133047  \n",
      "50%                          0.180698  \n",
      "75%                          0.248576  \n",
      "max                          2.447058  \n"
     ]
    }
   ],
   "source": [
    "# 載入ATM資料\n",
    "ATM_data = pd.read_csv('30_Training Dataset_V2/external_data/ATM資料.csv')\n",
    "\n",
    "# 去除重複的經緯度\n",
    "ATM_data.drop_duplicates(subset=['lat', 'lng'], inplace=True)\n",
    "\n",
    "# 創建 BallTree\n",
    "ATM_tree = BallTree(np.deg2rad(ATM_data[['lat', 'lng']].values), metric='haversine')\n",
    "\n",
    "for idx, row in enumerate(all_data.itertuples()):\n",
    "    # 使用 idx 從 coordinates 中獲取對應的經緯度\n",
    "    lat = coordinates.loc[idx, 'lat']\n",
    "    lng = coordinates.loc[idx, 'lng']\n",
    "\n",
    "    # 創建四個特徵\n",
    "    all_data.at[idx, 'num_ATMs_2km'] = count_facilities(ATM_tree, lat, lng, km=2)\n",
    "    all_data.at[idx, 'num_ATMs_5km'] = count_facilities(ATM_tree, lat, lng, km=5)\n",
    "    all_data.at[idx, 'distance_to_nearest_ATM'] = distance_to_nearest_facilities(ATM_tree, lat, lng)\n",
    "    all_data.at[idx, 'avg_distance_to_nearest_5_ATMs'] = average_distance_to_nearest_facilities(ATM_tree, lat, lng)\n",
    "\n",
    "\n",
    "# 查看更新後的 DataFrame\n",
    "print(all_data[['num_ATMs_2km', 'num_ATMs_5km', 'distance_to_nearest_ATM', 'avg_distance_to_nearest_5_ATMs']].describe())\n",
    "\n",
    "\n"
   ]
  },
  {
   "cell_type": "markdown",
   "metadata": {},
   "source": [
    "### `model 3` : Label + hash + One-hot encoding + 新增特徵"
   ]
  },
  {
   "cell_type": "code",
   "execution_count": 237,
   "metadata": {},
   "outputs": [
    {
     "name": "stdout",
     "output_type": "stream",
     "text": [
      "X shape is (11751, 483)\n",
      "X_test shape is (11751, 483)\n"
     ]
    }
   ],
   "source": [
    "X = all_data[:train.shape[0]]\n",
    "X_test = all_data[train.shape[0]:]\n",
    "y = train[\"單價\"]\n",
    "print(\"X shape is {}\".format(X.shape))\n",
    "print(\"X_test shape is {}\".format(X_test.shape))"
   ]
  },
  {
   "cell_type": "code",
   "execution_count": 238,
   "metadata": {},
   "outputs": [
    {
     "name": "stdout",
     "output_type": "stream",
     "text": [
      "[-0.0963255  -0.09552657 -0.09443305 -0.0976771  -0.09766987]\n",
      "MAPE: 9.6326%\n",
      "CPU times: user 1min 7s, sys: 4.98 s, total: 1min 12s\n",
      "Wall time: 13.1 s\n"
     ]
    }
   ],
   "source": [
    "%%time\n",
    "\n",
    "model = xgb.XGBRegressor(random_state=42)\n",
    "model_score = cross_val_score(model, X, y, scoring='neg_mean_absolute_percentage_error', cv=5)\n",
    "\n",
    "print(model_score)\n",
    "\n",
    "model_score = -1 * model_score.mean()\n",
    "\n",
    "print(\"MAPE: %.4f%%\" % (model_score * 100.0))"
   ]
  },
  {
   "cell_type": "markdown",
   "metadata": {},
   "source": [
    "lower bound : 9.6585%\n"
   ]
  },
  {
   "cell_type": "markdown",
   "metadata": {},
   "source": [
    "### 訓練模型"
   ]
  },
  {
   "cell_type": "markdown",
   "metadata": {},
   "source": [
    "參數搜尋"
   ]
  },
  {
   "cell_type": "code",
   "execution_count": 239,
   "metadata": {},
   "outputs": [],
   "source": [
    "from sklearn.model_selection import GridSearchCV\n",
    "\n",
    "xgb_reg = xgb.XGBRegressor()\n",
    "\n",
    "# 定義參數網格\n",
    "param_grid = {\n",
    "    'n_estimators': [100, 500, 1000],\n",
    "    'learning_rate': [0.01, 0.1, 0.2],\n",
    "    'max_depth': [3, 5, 7],\n",
    "    'colsample_bytree': [0.5, 0.7, 1],\n",
    "    'subsample': [0.5, 0.7, 1]\n",
    "}\n",
    "\n",
    "grid_search = GridSearchCV(estimator=xgb_reg, param_grid=param_grid, \n",
    "                           cv=3, n_jobs=-1, verbose=2, scoring='neg_mean_absolute_percentage_error')\n",
    "#grid_search.fit(X, y)\n",
    "\n",
    "#best_params = {'colsample_bytree': 0.5, 'learning_rate': 0.1, 'max_depth': 7, 'n_estimators': 1000, 'subsample': 1}\n",
    "\n",
    "# 印出最佳參數\n",
    "#print(\"Best parameters:\", grid_search.best_params_)\n",
    "#print(\"Best score:\", grid_search.best_score_)"
   ]
  },
  {
   "cell_type": "markdown",
   "metadata": {},
   "source": [
    "`Best parameters: {'colsample_bytree': 0.5, 'learning_rate': 0.1, 'max_depth': 7, 'n_estimators': 1000, 'subsample': 1}`\n",
    "\n",
    "`Best score: -0.08904505796119107`"
   ]
  },
  {
   "cell_type": "code",
   "execution_count": 240,
   "metadata": {},
   "outputs": [
    {
     "name": "stdout",
     "output_type": "stream",
     "text": [
      "MAPE: 9.1750%\n",
      "MAPE: 9.4730%\n",
      "MAPE: 9.0717%\n",
      "MAPE: 8.8940%\n",
      "MAPE: 9.2896%\n",
      "Average MAPE: 9.1807%\n",
      "CPU times: user 4min 38s, sys: 17.1 s, total: 4min 55s\n",
      "Wall time: 47.3 s\n"
     ]
    }
   ],
   "source": [
    "%%time\n",
    "\n",
    "from sklearn.model_selection import train_test_split\n",
    "from sklearn.metrics import mean_absolute_percentage_error\n",
    "\n",
    "sum = 0\n",
    "params = {'learning_rate': 0.05, 'n_estimators': 1000}\n",
    "\n",
    "for _ in range(5):\n",
    "    X_train, X_valid, y_train, y_valid = train_test_split(X, y, test_size=0.2)\n",
    "\n",
    "    xgb_model = xgb.XGBRegressor(**params, early_stopping_rounds=5, n_jobs=-1, random_state=42)\n",
    "    xgb_model.fit(X_train, y_train, eval_set=[(X_valid, y_valid)], verbose=False) # verbose=True: print evaluation result\n",
    "\n",
    "    y_pred = xgb_model.predict(X_valid)\n",
    "    mape = mean_absolute_percentage_error(y_valid, y_pred)\n",
    "    sum += mape\n",
    "    print(\"MAPE: %.4f%%\" % (mape * 100.0))\n",
    "\n",
    "\n",
    "\n",
    "print(\"Average MAPE: %.4f%%\" % (sum * 100.0 / 5))\n"
   ]
  },
  {
   "cell_type": "markdown",
   "metadata": {},
   "source": [
    "lower bound : 9.0838%"
   ]
  },
  {
   "cell_type": "code",
   "execution_count": 241,
   "metadata": {},
   "outputs": [
    {
     "name": "stdout",
     "output_type": "stream",
     "text": [
      "num_park_3km: 0.2846505343914032\n",
      "num_med_3km: 0.18915477395057678\n",
      "num_park_5km: 0.11821560561656952\n",
      "num_financial_institutions_5km: 0.05407430976629257\n",
      "主要建材_鋼骨造: 0.03125040978193283\n",
      "鄉鎮市區_39: 0.03055320680141449\n",
      "縣市: 0.02340775728225708\n",
      "屋齡: 0.015475397929549217\n",
      "鄉鎮市區_44: 0.011444336734712124\n",
      "num_ATMs_5km: 0.01004805788397789\n",
      "橫坐標: 0.00972684659063816\n",
      "鄉鎮市區_125: 0.008000980131328106\n",
      "總樓層數: 0.006588390097022057\n",
      "鄉鎮市區_67: 0.006479359697550535\n",
      "車位面積: 0.005927497986704111\n",
      "建物型態_公寓(5樓含以下無電梯): 0.005674976389855146\n",
      "avg_distance_to_nearest_5_park: 0.005234787706285715\n",
      "num_bike_stations_3km: 0.004916663747280836\n",
      "avg_distance_to_nearest_5_metros: 0.004873472731560469\n",
      "num_high_schools_3km: 0.004680764861404896\n",
      "縱坐標: 0.004316968843340874\n",
      "num_bike_stations_5km: 0.004311840981245041\n",
      "avg_distance_to_nearest_5_financial_institutions: 0.004245765041559935\n",
      "num_train_stations_10km: 0.004095243755728006\n",
      "num_financial_institutions_3km: 0.0038173997309058905\n",
      "建物面積: 0.0036297342739999294\n",
      "路名_23: 0.0035349703393876553\n",
      "avg_distance_to_nearest_5_high_schools: 0.003468681126832962\n",
      "主要建材_鋼筋混凝土造: 0.00329264416359365\n",
      "num_high_schools_5km: 0.0032088442239910364\n",
      "鄉鎮市區_81: 0.002904157852753997\n",
      "distance_to_nearest_metrons: 0.002822376322001219\n",
      "num_ATMs_2km: 0.0027869450859725475\n",
      "average_distance_to_nearest_5_university: 0.00267609185539186\n",
      "車位個數: 0.002623795997351408\n",
      "路名_163: 0.0023729733657091856\n",
      "路名_41: 0.002347452100366354\n",
      "路名_148: 0.002278347732499242\n",
      "num_convenience_stores_1km: 0.0022355502005666494\n",
      "avg_distance_to_nearest_5_train_stations: 0.0022043923381716013\n",
      "avg_distance_to_nearest_5_junior_high_schools: 0.002028736285865307\n",
      "avg_distance_to_nearest_5_post_offices: 0.0019013466080650687\n",
      "avg_distance_to_nearest_5_elementary_schools: 0.0018734658369794488\n",
      "路名_49: 0.001826453604735434\n",
      "distance_to_nearest_science_park: 0.0017895720666274428\n",
      "distance_to_nearest_university: 0.0017802019137889147\n",
      "路名_202: 0.0017398925265297294\n",
      "鄉鎮市區_10: 0.001733195735141635\n",
      "主建物面積: 0.0017018842045217752\n",
      "num_post_offices_5km: 0.0016720447456464171\n",
      "num_universities_10km: 0.0016039205947890878\n",
      "num_post_offices_3km: 0.0015626795357093215\n",
      "num_convenience_stores_2km: 0.001556536415591836\n",
      "distance_to_nearest_train_stations: 0.0015140364412218332\n",
      "鄉鎮市區_47: 0.001482238876633346\n",
      "鄉鎮市區_41: 0.0014010155573487282\n",
      "num_bus_stations_1km: 0.0013563166139647365\n",
      "路名_7: 0.00135194999165833\n",
      "num_bus_stations_5km: 0.0013386484934017062\n",
      "移轉層次: 0.0012479580473154783\n",
      "num_elementary_schools_3km: 0.001235476927831769\n",
      "distance_to_nearest_medical_institutions: 0.0012349433964118361\n",
      "鄉鎮市區_110: 0.0011843133252114058\n",
      "鄉鎮市區_82: 0.001182830659672618\n",
      "路名_254: 0.0011492056073620915\n",
      "num_train_stations_5km: 0.0011101822601631284\n",
      "avg_distance_to_nearest_5_medical_institutions: 0.001101564266718924\n",
      "鄉鎮市區_106: 0.0010867955861613154\n",
      "陽台面積: 0.001074130879715085\n",
      "鄉鎮市區_65: 0.001069535268470645\n",
      "鄉鎮市區_6: 0.0010432377457618713\n",
      "主要用途_住家用: 0.0010361203458160162\n",
      "路名_167: 0.0010341701563447714\n",
      "鄉鎮市區_4: 0.0010288794292137027\n",
      "路名_131: 0.0010107002453878522\n",
      "avg_distance_to_nearest_5_bike_stations: 0.0010053981095552444\n",
      "路名_77: 0.0009726076386868954\n",
      "主要用途_集合住宅: 0.0009724670089781284\n",
      "num_metros_5km: 0.0009716804488562047\n",
      "num_elementary_schools_5km: 0.000970467459410429\n",
      "distance_to_nearest_park: 0.0009610875858925283\n",
      "鄉鎮市區_127: 0.0009539047605358064\n",
      "鄉鎮市區_101: 0.0009421003051102161\n",
      "num_junior_high_schools_5km: 0.0009214610327035189\n",
      "路名_157: 0.0009210343705490232\n",
      "主要用途_一般事務所: 0.0009161912021227181\n",
      "num_junior_high_schools_3km: 0.0009009088971652091\n",
      "使用分區_商: 0.0008534908993169665\n",
      "鄉鎮市區_74: 0.000837266503367573\n",
      "路名_141: 0.0008365443791262805\n",
      "distance_to_nearest_financial_institutions: 0.0008289761026389897\n",
      "路名_204: 0.0008180050062946975\n",
      "路名_183: 0.0008135631214827299\n",
      "avg_distance_to_nearest_5_ATMs: 0.0007707580807618797\n",
      "使用分區_其他: 0.0007680614944547415\n",
      "路名_81: 0.0007484534871764481\n",
      "num_med_5km: 0.0007394930580630898\n",
      "鄉鎮市區_35: 0.0006954680429771543\n",
      "使用分區_None: 0.0006516750436276197\n",
      "附屬建物面積: 0.0006512492545880377\n",
      "distance_to_nearest_high_schools: 0.0006448368658311665\n",
      "num_metros_3km: 0.0006370136979967356\n",
      "路名_95: 0.0006167364772409201\n",
      "路名_191: 0.0006084173801355064\n",
      "路名_44: 0.0005683963536284864\n",
      "distance_to_nearest_bike_stations: 0.0005663990741595626\n",
      "路名_217: 0.000560896412935108\n",
      "路名_60: 0.0005589448846876621\n",
      "num_universities_5km: 0.0005572919035330415\n",
      "土地面積: 0.0005525603191927075\n",
      "路名_192: 0.0005515920929610729\n",
      "路名_3: 0.000548262323718518\n",
      "主要建材_其他: 0.0005420171655714512\n",
      "主要用途_其他: 0.0005377656780183315\n",
      "distance_to_nearest_post_offices: 0.0005349056445993483\n",
      "鄉鎮市區_90: 0.0005327840917743742\n",
      "路名_186: 0.0005103398580104113\n",
      "路名_40: 0.0005027682054787874\n",
      "路名_31: 0.0004984705592505634\n",
      "distance_to_nearest_junior_high_schools: 0.000497722125146538\n",
      "路名_129: 0.0004952590097673237\n",
      "路名_190: 0.0004843912029173225\n",
      "distance_to_nearest_convenience_stores: 0.0004803149204235524\n",
      "路名_15: 0.00047888385597616434\n",
      "鄉鎮市區_17: 0.0004742783203255385\n",
      "鄉鎮市區_33: 0.00046749250032007694\n",
      "路名_228: 0.0004652226052712649\n",
      "主要用途_商業用: 0.0004646996967494488\n",
      "路名_255: 0.00045866373693570495\n",
      "路名_109: 0.0004577015934046358\n",
      "avg_distance_to_nearest_5_convenience_stores: 0.00044032171717844903\n",
      "路名_92: 0.0004381579637993127\n",
      "路名_21: 0.0004361489263828844\n",
      "鄉鎮市區_48: 0.00043142479262314737\n",
      "distance_to_nearest_elementary_schools: 0.0004284669703338295\n",
      "路名_166: 0.00042538566049188375\n",
      "avg_distance_to_nearest_5_bus_stations: 0.0004232068022247404\n",
      "路名_79: 0.0004174433124717325\n",
      "路名_88: 0.0004124832630623132\n",
      "路名_197: 0.0004065847606398165\n",
      "路名_248: 0.0004054986929986626\n",
      "路名_5: 0.0004029994015581906\n",
      "路名_85: 0.00040008637006394565\n",
      "鄉鎮市區_123: 0.00039579306030645967\n",
      "路名_203: 0.0003943095216527581\n",
      "鄉鎮市區_59: 0.00036609082599170506\n",
      "路名_128: 0.0003549046814441681\n",
      "路名_185: 0.0003500304592307657\n",
      "鄉鎮市區_103: 0.00034852561657316983\n",
      "鄉鎮市區_126: 0.0003430353244766593\n",
      "路名_89: 0.0003402678412385285\n",
      "路名_145: 0.0003353041538503021\n",
      "路名_130: 0.000329542817780748\n",
      "使用分區_住: 0.000322680949466303\n",
      "路名_199: 0.0003213304153177887\n",
      "路名_124: 0.00031314761145040393\n",
      "distance_to_nearest_ATM: 0.00031253142515197396\n",
      "路名_237: 0.00031239778036251664\n",
      "路名_123: 0.0003119148313999176\n",
      "路名_133: 0.0003100062604062259\n",
      "distance_to_nearest_bus_stations: 0.00030397973023355007\n",
      "路名_114: 0.0003028970386367291\n",
      "鄉鎮市區_60: 0.00030065816827118397\n",
      "路名_4: 0.0002946559980046004\n",
      "路名_106: 0.0002928134927060455\n",
      "路名_132: 0.00028746866155415773\n",
      "鄉鎮市區_109: 0.0002788880665320903\n",
      "路名_103: 0.0002768463164102286\n",
      "路名_172: 0.00027268106350675225\n",
      "路名_82: 0.0002694595023058355\n",
      "路名_52: 0.00026267868815921247\n",
      "路名_149: 0.0002582213201094419\n",
      "路名_119: 0.00025679601822048426\n",
      "鄉鎮市區_89: 0.0002539831621106714\n",
      "路名_11: 0.00025191475288011134\n",
      "鄉鎮市區_30: 0.00024469441268593073\n",
      "路名_93: 0.00024359047529287636\n",
      "路名_223: 0.0002312724682269618\n",
      "鄉鎮市區_8: 0.00022624160919804126\n",
      "路名_24: 0.00022265950974542648\n",
      "路名_226: 0.00021873641526326537\n",
      "路名_234: 0.0002148923376807943\n",
      "路名_225: 0.00021002064750064164\n",
      "建物型態_華廈(10層含以下有電梯): 0.00020686689822468907\n",
      "路名_243: 0.00020106892043258995\n",
      "路名_181: 0.00019690168846864253\n",
      "路名_189: 0.00018706863920670003\n",
      "路名_112: 0.00018462276784703135\n",
      "路名_29: 0.00018339420785196126\n",
      "路名_25: 0.00018295232439413667\n",
      "路名_13: 0.00018134301353711635\n",
      "路名_113: 0.00017904890410136431\n",
      "路名_147: 0.0001711500808596611\n",
      "鄉鎮市區_115: 0.00016712011711206287\n",
      "路名_218: 0.00012744155537802726\n",
      "路名_213: 0.00011320484918542206\n",
      "路名_222: 8.205762424040586e-05\n",
      "路名_55: 7.928178092697635e-05\n",
      "鄉鎮市區_112: 7.815915887476876e-05\n",
      "路名_16: 7.549278961960226e-05\n",
      "主要建材_加強磚造: 7.482305954908952e-05\n",
      "路名_73: 7.034272857708856e-05\n",
      "路名_90: 6.958919402677566e-05\n",
      "路名_100: 4.560165325528942e-05\n",
      "路名_64: 2.90870029857615e-05\n",
      "路名_110: 1.6753911040723324e-05\n",
      "路名_242: 7.1641788963461295e-06\n",
      "路名_207: 3.015167749254033e-06\n",
      "路名_122: 2.556541858211858e-06\n",
      "路名_156: 2.3460472675651545e-06\n",
      "路名_177: 1.1065058060921729e-06\n",
      "路名_35: 6.098807716625743e-07\n",
      "備註: 0.0\n",
      "鄉鎮市區_0: 0.0\n",
      "鄉鎮市區_1: 0.0\n",
      "鄉鎮市區_2: 0.0\n",
      "鄉鎮市區_3: 0.0\n",
      "鄉鎮市區_5: 0.0\n",
      "鄉鎮市區_7: 0.0\n",
      "鄉鎮市區_9: 0.0\n",
      "鄉鎮市區_11: 0.0\n",
      "鄉鎮市區_12: 0.0\n",
      "鄉鎮市區_13: 0.0\n",
      "鄉鎮市區_14: 0.0\n",
      "鄉鎮市區_15: 0.0\n",
      "鄉鎮市區_16: 0.0\n",
      "鄉鎮市區_18: 0.0\n",
      "鄉鎮市區_19: 0.0\n",
      "鄉鎮市區_20: 0.0\n",
      "鄉鎮市區_21: 0.0\n",
      "鄉鎮市區_22: 0.0\n",
      "鄉鎮市區_23: 0.0\n",
      "鄉鎮市區_24: 0.0\n",
      "鄉鎮市區_25: 0.0\n",
      "鄉鎮市區_26: 0.0\n",
      "鄉鎮市區_27: 0.0\n",
      "鄉鎮市區_28: 0.0\n",
      "鄉鎮市區_29: 0.0\n",
      "鄉鎮市區_31: 0.0\n",
      "鄉鎮市區_32: 0.0\n",
      "鄉鎮市區_34: 0.0\n",
      "鄉鎮市區_36: 0.0\n",
      "鄉鎮市區_37: 0.0\n",
      "鄉鎮市區_38: 0.0\n",
      "鄉鎮市區_40: 0.0\n",
      "鄉鎮市區_42: 0.0\n",
      "鄉鎮市區_43: 0.0\n",
      "鄉鎮市區_45: 0.0\n",
      "鄉鎮市區_46: 0.0\n",
      "鄉鎮市區_49: 0.0\n",
      "鄉鎮市區_50: 0.0\n",
      "鄉鎮市區_51: 0.0\n",
      "鄉鎮市區_52: 0.0\n",
      "鄉鎮市區_53: 0.0\n",
      "鄉鎮市區_54: 0.0\n",
      "鄉鎮市區_55: 0.0\n",
      "鄉鎮市區_56: 0.0\n",
      "鄉鎮市區_57: 0.0\n",
      "鄉鎮市區_58: 0.0\n",
      "鄉鎮市區_61: 0.0\n",
      "鄉鎮市區_62: 0.0\n",
      "鄉鎮市區_63: 0.0\n",
      "鄉鎮市區_64: 0.0\n",
      "鄉鎮市區_66: 0.0\n",
      "鄉鎮市區_68: 0.0\n",
      "鄉鎮市區_69: 0.0\n",
      "鄉鎮市區_70: 0.0\n",
      "鄉鎮市區_71: 0.0\n",
      "鄉鎮市區_72: 0.0\n",
      "鄉鎮市區_73: 0.0\n",
      "鄉鎮市區_75: 0.0\n",
      "鄉鎮市區_76: 0.0\n",
      "鄉鎮市區_77: 0.0\n",
      "鄉鎮市區_78: 0.0\n",
      "鄉鎮市區_79: 0.0\n",
      "鄉鎮市區_80: 0.0\n",
      "鄉鎮市區_83: 0.0\n",
      "鄉鎮市區_84: 0.0\n",
      "鄉鎮市區_85: 0.0\n",
      "鄉鎮市區_86: 0.0\n",
      "鄉鎮市區_87: 0.0\n",
      "鄉鎮市區_88: 0.0\n",
      "鄉鎮市區_91: 0.0\n",
      "鄉鎮市區_92: 0.0\n",
      "鄉鎮市區_93: 0.0\n",
      "鄉鎮市區_94: 0.0\n",
      "鄉鎮市區_95: 0.0\n",
      "鄉鎮市區_96: 0.0\n",
      "鄉鎮市區_97: 0.0\n",
      "鄉鎮市區_98: 0.0\n",
      "鄉鎮市區_99: 0.0\n",
      "鄉鎮市區_100: 0.0\n",
      "鄉鎮市區_102: 0.0\n",
      "鄉鎮市區_104: 0.0\n",
      "鄉鎮市區_105: 0.0\n",
      "鄉鎮市區_107: 0.0\n",
      "鄉鎮市區_108: 0.0\n",
      "鄉鎮市區_111: 0.0\n",
      "鄉鎮市區_113: 0.0\n",
      "鄉鎮市區_114: 0.0\n",
      "鄉鎮市區_116: 0.0\n",
      "鄉鎮市區_117: 0.0\n",
      "鄉鎮市區_118: 0.0\n",
      "鄉鎮市區_119: 0.0\n",
      "鄉鎮市區_120: 0.0\n",
      "鄉鎮市區_121: 0.0\n",
      "鄉鎮市區_122: 0.0\n",
      "鄉鎮市區_124: 0.0\n",
      "路名_0: 0.0\n",
      "路名_1: 0.0\n",
      "路名_2: 0.0\n",
      "路名_6: 0.0\n",
      "路名_8: 0.0\n",
      "路名_9: 0.0\n",
      "路名_10: 0.0\n",
      "路名_12: 0.0\n",
      "路名_14: 0.0\n",
      "路名_17: 0.0\n",
      "路名_18: 0.0\n",
      "路名_19: 0.0\n",
      "路名_20: 0.0\n",
      "路名_22: 0.0\n",
      "路名_26: 0.0\n",
      "路名_27: 0.0\n",
      "路名_28: 0.0\n",
      "路名_30: 0.0\n",
      "路名_32: 0.0\n",
      "路名_33: 0.0\n",
      "路名_34: 0.0\n",
      "路名_36: 0.0\n",
      "路名_37: 0.0\n",
      "路名_38: 0.0\n",
      "路名_39: 0.0\n",
      "路名_42: 0.0\n",
      "路名_43: 0.0\n",
      "路名_45: 0.0\n",
      "路名_46: 0.0\n",
      "路名_47: 0.0\n",
      "路名_48: 0.0\n",
      "路名_50: 0.0\n",
      "路名_51: 0.0\n",
      "路名_53: 0.0\n",
      "路名_54: 0.0\n",
      "路名_56: 0.0\n",
      "路名_57: 0.0\n",
      "路名_58: 0.0\n",
      "路名_59: 0.0\n",
      "路名_61: 0.0\n",
      "路名_62: 0.0\n",
      "路名_63: 0.0\n",
      "路名_65: 0.0\n",
      "路名_66: 0.0\n",
      "路名_67: 0.0\n",
      "路名_68: 0.0\n",
      "路名_69: 0.0\n",
      "路名_70: 0.0\n",
      "路名_71: 0.0\n",
      "路名_72: 0.0\n",
      "路名_74: 0.0\n",
      "路名_75: 0.0\n",
      "路名_76: 0.0\n",
      "路名_78: 0.0\n",
      "路名_80: 0.0\n",
      "路名_83: 0.0\n",
      "路名_84: 0.0\n",
      "路名_86: 0.0\n",
      "路名_87: 0.0\n",
      "路名_91: 0.0\n",
      "路名_94: 0.0\n",
      "路名_96: 0.0\n",
      "路名_97: 0.0\n",
      "路名_98: 0.0\n",
      "路名_99: 0.0\n",
      "路名_101: 0.0\n",
      "路名_102: 0.0\n",
      "路名_104: 0.0\n",
      "路名_105: 0.0\n",
      "路名_107: 0.0\n",
      "路名_108: 0.0\n",
      "路名_111: 0.0\n",
      "路名_115: 0.0\n",
      "路名_116: 0.0\n",
      "路名_117: 0.0\n",
      "路名_118: 0.0\n",
      "路名_120: 0.0\n",
      "路名_121: 0.0\n",
      "路名_125: 0.0\n",
      "路名_126: 0.0\n",
      "路名_127: 0.0\n",
      "路名_134: 0.0\n",
      "路名_135: 0.0\n",
      "路名_136: 0.0\n",
      "路名_137: 0.0\n",
      "路名_138: 0.0\n",
      "路名_139: 0.0\n",
      "路名_140: 0.0\n",
      "路名_142: 0.0\n",
      "路名_143: 0.0\n",
      "路名_144: 0.0\n",
      "路名_146: 0.0\n",
      "路名_150: 0.0\n",
      "路名_151: 0.0\n",
      "路名_152: 0.0\n",
      "路名_153: 0.0\n",
      "路名_154: 0.0\n",
      "路名_155: 0.0\n",
      "路名_158: 0.0\n",
      "路名_159: 0.0\n",
      "路名_160: 0.0\n",
      "路名_161: 0.0\n",
      "路名_162: 0.0\n",
      "路名_164: 0.0\n",
      "路名_165: 0.0\n",
      "路名_168: 0.0\n",
      "路名_169: 0.0\n",
      "路名_170: 0.0\n",
      "路名_171: 0.0\n",
      "路名_173: 0.0\n",
      "路名_174: 0.0\n",
      "路名_175: 0.0\n",
      "路名_176: 0.0\n",
      "路名_178: 0.0\n",
      "路名_179: 0.0\n",
      "路名_180: 0.0\n",
      "路名_182: 0.0\n",
      "路名_184: 0.0\n",
      "路名_187: 0.0\n",
      "路名_188: 0.0\n",
      "路名_193: 0.0\n",
      "路名_194: 0.0\n",
      "路名_195: 0.0\n",
      "路名_196: 0.0\n",
      "路名_198: 0.0\n",
      "路名_200: 0.0\n",
      "路名_201: 0.0\n",
      "路名_205: 0.0\n",
      "路名_206: 0.0\n",
      "路名_208: 0.0\n",
      "路名_209: 0.0\n",
      "路名_210: 0.0\n",
      "路名_211: 0.0\n",
      "路名_212: 0.0\n",
      "路名_214: 0.0\n",
      "路名_215: 0.0\n",
      "路名_216: 0.0\n",
      "路名_219: 0.0\n",
      "路名_220: 0.0\n",
      "路名_221: 0.0\n",
      "路名_224: 0.0\n",
      "路名_227: 0.0\n",
      "路名_229: 0.0\n",
      "路名_230: 0.0\n",
      "路名_231: 0.0\n",
      "路名_232: 0.0\n",
      "路名_233: 0.0\n",
      "路名_235: 0.0\n",
      "路名_236: 0.0\n",
      "路名_238: 0.0\n",
      "路名_239: 0.0\n",
      "路名_240: 0.0\n",
      "路名_241: 0.0\n",
      "路名_244: 0.0\n",
      "路名_245: 0.0\n",
      "路名_246: 0.0\n",
      "路名_247: 0.0\n",
      "路名_249: 0.0\n",
      "路名_250: 0.0\n",
      "路名_251: 0.0\n",
      "路名_252: 0.0\n",
      "路名_253: 0.0\n",
      "使用分區_工: 0.0\n",
      "使用分區_農: 0.0\n",
      "主要用途_住商用: 0.0\n",
      "主要用途_住工用: 0.0\n",
      "主要用途_國民住宅: 0.0\n",
      "主要用途_工業用: 0.0\n",
      "主要用途_店鋪: 0.0\n",
      "主要用途_廠房: 0.0\n",
      "主要用途_辦公室: 0.0\n",
      "主要建材_磚造: 0.0\n",
      "主要建材_鋼筋混凝土加強磚造: 0.0\n",
      "建物型態_住宅大樓(11層含以上有電梯): 0.0\n",
      "建物型態_透天厝: 0.0\n"
     ]
    }
   ],
   "source": [
    "importances = xgb_model.feature_importances_\n",
    "feature_names = X.columns\n",
    "\n",
    "# 將特徵名稱和重要性配對，並按重要性排序\n",
    "feature_importances = sorted(zip(feature_names, importances), key=lambda x: x[1], reverse=True)\n",
    "\n",
    "# 印出排序後的特徵重要性\n",
    "for name, importance in feature_importances:\n",
    "    print(f'{name}: {importance}')\n"
   ]
  },
  {
   "cell_type": "markdown",
   "metadata": {},
   "source": [
    "進行預測"
   ]
  },
  {
   "cell_type": "code",
   "execution_count": 242,
   "metadata": {},
   "outputs": [
    {
     "data": {
      "text/html": [
       "<div>\n",
       "<style scoped>\n",
       "    .dataframe tbody tr th:only-of-type {\n",
       "        vertical-align: middle;\n",
       "    }\n",
       "\n",
       "    .dataframe tbody tr th {\n",
       "        vertical-align: top;\n",
       "    }\n",
       "\n",
       "    .dataframe thead th {\n",
       "        text-align: right;\n",
       "    }\n",
       "</style>\n",
       "<table border=\"1\" class=\"dataframe\">\n",
       "  <thead>\n",
       "    <tr style=\"text-align: right;\">\n",
       "      <th></th>\n",
       "      <th>predicted_price</th>\n",
       "    </tr>\n",
       "    <tr>\n",
       "      <th>ID</th>\n",
       "      <th></th>\n",
       "    </tr>\n",
       "  </thead>\n",
       "  <tbody>\n",
       "    <tr>\n",
       "      <th>PU-1</th>\n",
       "      <td>1.733076</td>\n",
       "    </tr>\n",
       "    <tr>\n",
       "      <th>PU-2</th>\n",
       "      <td>1.708109</td>\n",
       "    </tr>\n",
       "    <tr>\n",
       "      <th>PU-3</th>\n",
       "      <td>2.759831</td>\n",
       "    </tr>\n",
       "    <tr>\n",
       "      <th>PU-4</th>\n",
       "      <td>1.461742</td>\n",
       "    </tr>\n",
       "    <tr>\n",
       "      <th>PU-5</th>\n",
       "      <td>3.421046</td>\n",
       "    </tr>\n",
       "    <tr>\n",
       "      <th>PU-6</th>\n",
       "      <td>1.644103</td>\n",
       "    </tr>\n",
       "    <tr>\n",
       "      <th>PU-7</th>\n",
       "      <td>1.809798</td>\n",
       "    </tr>\n",
       "    <tr>\n",
       "      <th>PU-8</th>\n",
       "      <td>1.732886</td>\n",
       "    </tr>\n",
       "    <tr>\n",
       "      <th>PU-9</th>\n",
       "      <td>1.252720</td>\n",
       "    </tr>\n",
       "    <tr>\n",
       "      <th>PU-10</th>\n",
       "      <td>1.674038</td>\n",
       "    </tr>\n",
       "  </tbody>\n",
       "</table>\n",
       "</div>"
      ],
      "text/plain": [
       "       predicted_price\n",
       "ID                    \n",
       "PU-1          1.733076\n",
       "PU-2          1.708109\n",
       "PU-3          2.759831\n",
       "PU-4          1.461742\n",
       "PU-5          3.421046\n",
       "PU-6          1.644103\n",
       "PU-7          1.809798\n",
       "PU-8          1.732886\n",
       "PU-9          1.252720\n",
       "PU-10         1.674038"
      ]
     },
     "execution_count": 242,
     "metadata": {},
     "output_type": "execute_result"
    }
   ],
   "source": [
    "# 將預測結果存成csv檔\n",
    "# 把 public test 與 private test 串接起來\n",
    "test_ID = pd.concat([public_test_ID, private_test_ID])\n",
    "\n",
    "y_submit = xgb_model.predict(X_test)\n",
    "submit = pd.DataFrame(y_submit, columns=['predicted_price'])\n",
    "submit.index = test_ID\n",
    "submit.index.name = 'ID'\n",
    "\n",
    "# add time stamp to file name\n",
    "import time\n",
    "timestr = time.strftime(\"%Y%m%d-%H%M%S\")\n",
    "# uncomment to save file\n",
    "submit.to_csv('./submit/submit_' + timestr + '.csv')\n",
    "submit.head(10)"
   ]
  }
 ],
 "metadata": {
  "kernelspec": {
   "display_name": "Python 3",
   "language": "python",
   "name": "python3"
  },
  "language_info": {
   "codemirror_mode": {
    "name": "ipython",
    "version": 3
   },
   "file_extension": ".py",
   "mimetype": "text/x-python",
   "name": "python",
   "nbconvert_exporter": "python",
   "pygments_lexer": "ipython3",
   "version": "3.11.4"
  }
 },
 "nbformat": 4,
 "nbformat_minor": 2
}
