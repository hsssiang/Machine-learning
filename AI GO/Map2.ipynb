{
 "cells": [
  {
   "cell_type": "code",
   "execution_count": 16,
   "id": "a9c881ea6d632173",
   "metadata": {
    "ExecuteTime": {
     "end_time": "2023-11-12T15:36:32.320676Z",
     "start_time": "2023-11-12T15:36:32.316393Z"
    },
    "collapsed": false
   },
   "outputs": [],
   "source": [
    "import requests\n",
    "import time\n",
    "from selenium import webdriver\n",
    "from selenium.webdriver.support.ui import Select\n",
    "from bs4 import BeautifulSoup\n",
    "options = webdriver.ChromeOptions()\n",
    "options.add_argument(\"headless\")"
   ]
  },
  {
   "cell_type": "code",
   "execution_count": 17,
   "id": "85c9145b6338c5b4",
   "metadata": {
    "ExecuteTime": {
     "end_time": "2023-11-12T15:36:32.338914Z",
     "start_time": "2023-11-12T15:36:32.325971Z"
    },
    "collapsed": false
   },
   "outputs": [],
   "source": [
    "def get_coordinate(addr):\n",
    "    browser = webdriver.Chrome(executable_path='chromedriver',options=options)\n",
    "    browser.get(\"http://www.map.com.tw/\")\n",
    "    search = browser.find_element_by_id(\"searchWord\")\n",
    "    search.clear()\n",
    "    search.send_keys(addr)\n",
    "    browser.find_element_by_xpath(\"/html/body/form/div[10]/div[2]/img[2]\").click() \n",
    "    time.sleep(2)\n",
    "    iframe = browser.find_elements_by_tag_name(\"iframe\")[1]\n",
    "    browser.switch_to.frame(iframe)\n",
    "    coor_btn = browser.find_element_by_xpath(\"/html/body/form/div[4]/table/tbody/tr[3]/td/table/tbody/tr/td[2]\")\n",
    "    coor_btn.click()\n",
    "    coor = browser.find_element_by_xpath(\"/html/body/form/div[5]/table/tbody/tr[2]/td\")\n",
    "    coor = coor.text.strip().split(\" \")\n",
    "    lat = coor[-1].split(\"：\")[-1]\n",
    "    log = coor[0].split(\"：\")[-1]\n",
    "    browser.quit()\n",
    "    return (lat, log)"
   ]
  },
  {
   "cell_type": "code",
   "execution_count": 18,
   "id": "373623bf",
   "metadata": {},
   "outputs": [
    {
     "ename": "TypeError",
     "evalue": "WebDriver.__init__() got an unexpected keyword argument 'executable_path'",
     "output_type": "error",
     "traceback": [
      "\u001b[0;31m---------------------------------------------------------------------------\u001b[0m",
      "\u001b[0;31mTypeError\u001b[0m                                 Traceback (most recent call last)",
      "\u001b[1;32m/Users/jimmywang/Desktop/Jupyter/ML/AI GO/Map2.ipynb 儲存格 3\u001b[0m line \u001b[0;36m1\n\u001b[0;32m----> <a href='vscode-notebook-cell:/Users/jimmywang/Desktop/Jupyter/ML/AI%20GO/Map2.ipynb#W6sZmlsZQ%3D%3D?line=0'>1</a>\u001b[0m get_coordinate(\u001b[39m\"\u001b[39m\u001b[39m台北市大安區羅斯福路四段1號\u001b[39m\u001b[39m\"\u001b[39m)\n",
      "\u001b[1;32m/Users/jimmywang/Desktop/Jupyter/ML/AI GO/Map2.ipynb 儲存格 3\u001b[0m line \u001b[0;36m2\n\u001b[1;32m      <a href='vscode-notebook-cell:/Users/jimmywang/Desktop/Jupyter/ML/AI%20GO/Map2.ipynb#W6sZmlsZQ%3D%3D?line=0'>1</a>\u001b[0m \u001b[39mdef\u001b[39;00m \u001b[39mget_coordinate\u001b[39m(addr):\n\u001b[0;32m----> <a href='vscode-notebook-cell:/Users/jimmywang/Desktop/Jupyter/ML/AI%20GO/Map2.ipynb#W6sZmlsZQ%3D%3D?line=1'>2</a>\u001b[0m     browser \u001b[39m=\u001b[39m webdriver\u001b[39m.\u001b[39mChrome(executable_path\u001b[39m=\u001b[39m\u001b[39m'\u001b[39m\u001b[39mchromedriver\u001b[39m\u001b[39m'\u001b[39m,options\u001b[39m=\u001b[39moptions)\n\u001b[1;32m      <a href='vscode-notebook-cell:/Users/jimmywang/Desktop/Jupyter/ML/AI%20GO/Map2.ipynb#W6sZmlsZQ%3D%3D?line=2'>3</a>\u001b[0m     browser\u001b[39m.\u001b[39mget(\u001b[39m\"\u001b[39m\u001b[39mhttp://www.map.com.tw/\u001b[39m\u001b[39m\"\u001b[39m)\n\u001b[1;32m      <a href='vscode-notebook-cell:/Users/jimmywang/Desktop/Jupyter/ML/AI%20GO/Map2.ipynb#W6sZmlsZQ%3D%3D?line=3'>4</a>\u001b[0m     search \u001b[39m=\u001b[39m browser\u001b[39m.\u001b[39mfind_element_by_id(\u001b[39m\"\u001b[39m\u001b[39msearchWord\u001b[39m\u001b[39m\"\u001b[39m)\n",
      "\u001b[0;31mTypeError\u001b[0m: WebDriver.__init__() got an unexpected keyword argument 'executable_path'"
     ]
    }
   ],
   "source": [
    "get_coordinate(\"台北市大安區羅斯福路四段1號\")"
   ]
  }
 ],
 "metadata": {
  "kernelspec": {
   "display_name": "Python 3 (ipykernel)",
   "language": "python",
   "name": "python3"
  },
  "language_info": {
   "codemirror_mode": {
    "name": "ipython",
    "version": 3
   },
   "file_extension": ".py",
   "mimetype": "text/x-python",
   "name": "python",
   "nbconvert_exporter": "python",
   "pygments_lexer": "ipython3",
   "version": "3.11.4"
  }
 },
 "nbformat": 4,
 "nbformat_minor": 5
}
