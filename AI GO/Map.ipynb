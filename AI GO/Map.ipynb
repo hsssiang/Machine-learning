{
 "cells": [
  {
   "cell_type": "code",
   "execution_count": 133,
   "id": "a9c881ea6d632173",
   "metadata": {
    "ExecuteTime": {
     "end_time": "2023-11-13T01:48:59.233996Z",
     "start_time": "2023-11-13T01:48:59.201144Z"
    },
    "collapsed": false
   },
   "outputs": [],
   "source": [
    "import codecs\n",
    "f = codecs.open(\"maps.txt\", 'r', 'utf-8') #記得以utf-8開啟文字檔\n",
    "location = f.read()\n",
    "f.close()"
   ]
  },
  {
   "cell_type": "code",
   "execution_count": 134,
   "id": "85c9145b6338c5b4",
   "metadata": {
    "ExecuteTime": {
     "end_time": "2023-11-13T01:48:59.240867Z",
     "start_time": "2023-11-13T01:48:59.213076Z"
    },
    "collapsed": false
   },
   "outputs": [],
   "source": [
    "places = tuple(location.split('\\n'))\n",
    "URL = []\n",
    "for i in places:\n",
    "    URL.append(\"https://www.google.com/maps/place?q=\" + i)"
   ]
  },
  {
   "cell_type": "code",
   "execution_count": 135,
   "id": "483b3aedc5a7d243",
   "metadata": {
    "ExecuteTime": {
     "end_time": "2023-11-13T01:48:59.248856Z",
     "start_time": "2023-11-13T01:48:59.222470Z"
    },
    "collapsed": false
   },
   "outputs": [],
   "source": [
    "from openpyxl import Workbook\n",
    "wb = Workbook()\n",
    "ws = wb.active\n",
    "ws['A1'] = 'longitude'\n",
    "ws['B1'] = 'latitude'"
   ]
  },
  {
   "cell_type": "code",
   "execution_count": 136,
   "id": "e347fcde65241afa",
   "metadata": {
    "ExecuteTime": {
     "end_time": "2023-11-13T01:48:59.259489Z",
     "start_time": "2023-11-13T01:48:59.248454Z"
    },
    "collapsed": false
   },
   "outputs": [],
   "source": [
    "def STR_to_NUM(data):\n",
    "    line = tuple(data.split(',')) #註1\n",
    "    num1 = float(line[1])\n",
    "    num2 = float(line[2])\n",
    "    line = [num1, num2]\n",
    "    return line"
   ]
  },
  {
   "cell_type": "code",
   "execution_count": 137,
   "id": "142618a8e7bc9a8a",
   "metadata": {
    "ExecuteTime": {
     "end_time": "2023-11-13T01:48:59.282871Z",
     "start_time": "2023-11-13T01:48:59.267597Z"
    },
    "collapsed": false
   },
   "outputs": [],
   "source": [
    "def coordination(url):\n",
    "    response = requests.get(url)\n",
    "    soup = BeautifulSoup(response.text, \"html.parser\")\n",
    "    text = soup.prettify() #text 包含了html的內容\n",
    "    initial_pos = text.find(\";window.APP_INITIALIZATION_STATE\")\n",
    "    #尋找;window.APP_INITIALIZATION_STATE所在位置\n",
    "    data = text[initial_pos+36:initial_pos+85] #將其後的參數進行存取\n",
    "    num_data = STR_to_NUM(data)\n",
    "    ws.append(num_data) #將經緯度存到Excel裡"
   ]
  },
  {
   "cell_type": "code",
   "execution_count": 138,
   "id": "cc470033c7bb1ea0",
   "metadata": {
    "ExecuteTime": {
     "end_time": "2023-11-13T01:48:59.436445Z",
     "start_time": "2023-11-13T01:48:59.273613Z"
    },
    "collapsed": false
   },
   "outputs": [
    {
     "ename": "ValueError",
     "evalue": "could not convert string to float: '23.485750050000004]'",
     "output_type": "error",
     "traceback": [
      "\u001b[0;31m---------------------------------------------------------------------------\u001b[0m",
      "\u001b[0;31mValueError\u001b[0m                                Traceback (most recent call last)",
      "\u001b[1;32m/Users/jimmywang/Desktop/Jupyter/ML/AI GO/Map.ipynb 儲存格 6\u001b[0m line \u001b[0;36m4\n\u001b[1;32m      <a href='vscode-notebook-cell:/Users/jimmywang/Desktop/Jupyter/ML/AI%20GO/Map.ipynb#X32sZmlsZQ%3D%3D?line=1'>2</a>\u001b[0m \u001b[39mfrom\u001b[39;00m \u001b[39mbs4\u001b[39;00m \u001b[39mimport\u001b[39;00m BeautifulSoup\n\u001b[1;32m      <a href='vscode-notebook-cell:/Users/jimmywang/Desktop/Jupyter/ML/AI%20GO/Map.ipynb#X32sZmlsZQ%3D%3D?line=2'>3</a>\u001b[0m \u001b[39mfor\u001b[39;00m i \u001b[39min\u001b[39;00m URL:\n\u001b[0;32m----> <a href='vscode-notebook-cell:/Users/jimmywang/Desktop/Jupyter/ML/AI%20GO/Map.ipynb#X32sZmlsZQ%3D%3D?line=3'>4</a>\u001b[0m     coordination(i)\n\u001b[1;32m      <a href='vscode-notebook-cell:/Users/jimmywang/Desktop/Jupyter/ML/AI%20GO/Map.ipynb#X32sZmlsZQ%3D%3D?line=4'>5</a>\u001b[0m     wb\u001b[39m.\u001b[39msave(\u001b[39m'\u001b[39m\u001b[39mmaps.xlsx\u001b[39m\u001b[39m'\u001b[39m)\n",
      "\u001b[1;32m/Users/jimmywang/Desktop/Jupyter/ML/AI GO/Map.ipynb 儲存格 6\u001b[0m line \u001b[0;36m8\n\u001b[1;32m      <a href='vscode-notebook-cell:/Users/jimmywang/Desktop/Jupyter/ML/AI%20GO/Map.ipynb#X32sZmlsZQ%3D%3D?line=5'>6</a>\u001b[0m \u001b[39m#尋找;window.APP_INITIALIZATION_STATE所在位置\u001b[39;00m\n\u001b[1;32m      <a href='vscode-notebook-cell:/Users/jimmywang/Desktop/Jupyter/ML/AI%20GO/Map.ipynb#X32sZmlsZQ%3D%3D?line=6'>7</a>\u001b[0m data \u001b[39m=\u001b[39m text[initial_pos\u001b[39m+\u001b[39m\u001b[39m36\u001b[39m:initial_pos\u001b[39m+\u001b[39m\u001b[39m85\u001b[39m] \u001b[39m#將其後的參數進行存取\u001b[39;00m\n\u001b[0;32m----> <a href='vscode-notebook-cell:/Users/jimmywang/Desktop/Jupyter/ML/AI%20GO/Map.ipynb#X32sZmlsZQ%3D%3D?line=7'>8</a>\u001b[0m num_data \u001b[39m=\u001b[39m STR_to_NUM(data)\n\u001b[1;32m      <a href='vscode-notebook-cell:/Users/jimmywang/Desktop/Jupyter/ML/AI%20GO/Map.ipynb#X32sZmlsZQ%3D%3D?line=8'>9</a>\u001b[0m ws\u001b[39m.\u001b[39mappend(num_data)\n",
      "\u001b[1;32m/Users/jimmywang/Desktop/Jupyter/ML/AI GO/Map.ipynb 儲存格 6\u001b[0m line \u001b[0;36m4\n\u001b[1;32m      <a href='vscode-notebook-cell:/Users/jimmywang/Desktop/Jupyter/ML/AI%20GO/Map.ipynb#X32sZmlsZQ%3D%3D?line=1'>2</a>\u001b[0m line \u001b[39m=\u001b[39m \u001b[39mtuple\u001b[39m(data\u001b[39m.\u001b[39msplit(\u001b[39m'\u001b[39m\u001b[39m,\u001b[39m\u001b[39m'\u001b[39m)) \u001b[39m#註1\u001b[39;00m\n\u001b[1;32m      <a href='vscode-notebook-cell:/Users/jimmywang/Desktop/Jupyter/ML/AI%20GO/Map.ipynb#X32sZmlsZQ%3D%3D?line=2'>3</a>\u001b[0m num1 \u001b[39m=\u001b[39m \u001b[39mfloat\u001b[39m(line[\u001b[39m1\u001b[39m])\n\u001b[0;32m----> <a href='vscode-notebook-cell:/Users/jimmywang/Desktop/Jupyter/ML/AI%20GO/Map.ipynb#X32sZmlsZQ%3D%3D?line=3'>4</a>\u001b[0m num2 \u001b[39m=\u001b[39m \u001b[39mfloat\u001b[39m(line[\u001b[39m2\u001b[39m])\n\u001b[1;32m      <a href='vscode-notebook-cell:/Users/jimmywang/Desktop/Jupyter/ML/AI%20GO/Map.ipynb#X32sZmlsZQ%3D%3D?line=4'>5</a>\u001b[0m line \u001b[39m=\u001b[39m [num1, num2]\n\u001b[1;32m      <a href='vscode-notebook-cell:/Users/jimmywang/Desktop/Jupyter/ML/AI%20GO/Map.ipynb#X32sZmlsZQ%3D%3D?line=5'>6</a>\u001b[0m \u001b[39mreturn\u001b[39;00m line\n",
      "\u001b[0;31mValueError\u001b[0m: could not convert string to float: '23.485750050000004]'"
     ]
    }
   ],
   "source": [
    "import requests\n",
    "from bs4 import BeautifulSoup\n",
    "for i in URL:\n",
    "    coordination(i)\n",
    "    wb.save('maps.xlsx') #自行決定檔名"
   ]
  }
 ],
 "metadata": {
  "kernelspec": {
   "display_name": "Python 3 (ipykernel)",
   "language": "python",
   "name": "python3"
  },
  "language_info": {
   "codemirror_mode": {
    "name": "ipython",
    "version": 3
   },
   "file_extension": ".py",
   "mimetype": "text/x-python",
   "name": "python",
   "nbconvert_exporter": "python",
   "pygments_lexer": "ipython3",
   "version": "3.11.4"
  }
 },
 "nbformat": 4,
 "nbformat_minor": 5
}
