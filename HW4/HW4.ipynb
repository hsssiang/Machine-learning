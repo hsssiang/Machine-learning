{
 "cells": [
  {
   "cell_type": "markdown",
   "source": [
    "4-1"
   ],
   "metadata": {
    "collapsed": false
   },
   "id": "e33e0f4dfb135225"
  },
  {
   "cell_type": "markdown",
   "source": [
    "讀入函式庫"
   ],
   "metadata": {
    "collapsed": false
   },
   "id": "ddb7c8d8fc24911"
  },
  {
   "cell_type": "code",
   "execution_count": 14,
   "outputs": [],
   "source": [
    "import torch\n",
    "import random\n",
    "import numpy as np"
   ],
   "metadata": {
    "collapsed": false,
    "ExecuteTime": {
     "end_time": "2023-11-19T14:47:37.591692Z",
     "start_time": "2023-11-19T14:47:37.431758Z"
    }
   },
   "id": "287b5588cf2fcf65"
  },
  {
   "cell_type": "markdown",
   "source": [
    "定義方程式"
   ],
   "metadata": {
    "collapsed": false
   },
   "id": "2c82363020d818e0"
  },
  {
   "cell_type": "code",
   "execution_count": 15,
   "outputs": [],
   "source": [
    "def obj_function ( x, a0, a1, a2, a3, a4  ):\n",
    "    return ( a4*(x**4) + a3*(x**3) + a2*(x**2) + a1*x + a0 )"
   ],
   "metadata": {
    "collapsed": false,
    "ExecuteTime": {
     "end_time": "2023-11-19T14:47:37.794531Z",
     "start_time": "2023-11-19T14:47:37.446012Z"
    }
   },
   "id": "85c9145b6338c5b4"
  },
  {
   "cell_type": "markdown",
   "source": [
    "使用不同Optimizer去計算"
   ],
   "metadata": {
    "collapsed": false
   },
   "id": "70cd19aa74f89ca6"
  },
  {
   "cell_type": "code",
   "execution_count": 16,
   "outputs": [],
   "source": [
    "def find_min_SGD ( a0, a1, a2, a3, a4 ):\n",
    "    x = torch.tensor([0.0], requires_grad=True)\n",
    "    optimizer = torch.optim.SGD([x], lr=0.01)\n",
    "    for _ in range(1000):\n",
    "        optimizer.zero_grad()\n",
    "        y = obj_function ( x, a0, a1, a2, a3, a4 )\n",
    "        y.backward()\n",
    "        optimizer.step()\n",
    "    return x.item()"
   ],
   "metadata": {
    "collapsed": false,
    "ExecuteTime": {
     "end_time": "2023-11-19T14:47:37.845452Z",
     "start_time": "2023-11-19T14:47:37.453603Z"
    }
   },
   "id": "483b3aedc5a7d243"
  },
  {
   "cell_type": "code",
   "execution_count": 17,
   "outputs": [],
   "source": [
    "def find_min_Adam ( a0, a1, a2, a3, a4 ):\n",
    "    x = torch.tensor([0.0], requires_grad=True)\n",
    "    optimizer = torch.optim.Adam([x], lr=0.01)\n",
    "    for _ in range(1000):\n",
    "        optimizer.zero_grad()\n",
    "        y = obj_function ( x, a0, a1, a2, a3, a4 )\n",
    "        y.backward()\n",
    "        optimizer.step()\n",
    "    return x.item()"
   ],
   "metadata": {
    "collapsed": false,
    "ExecuteTime": {
     "end_time": "2023-11-19T14:47:37.845801Z",
     "start_time": "2023-11-19T14:47:37.461856Z"
    }
   },
   "id": "78607f4cbc2a8af8"
  },
  {
   "cell_type": "code",
   "execution_count": 18,
   "outputs": [],
   "source": [
    "def find_min_RMSprop ( a0, a1, a2, a3, a4 ):\n",
    "    x = torch.tensor([0.0], requires_grad=True)\n",
    "    optimizer = torch.optim.RMSprop([x], lr=0.01)\n",
    "    for _ in range(1000):\n",
    "        optimizer.zero_grad()\n",
    "        y = obj_function ( x, a0, a1, a2, a3, a4 )\n",
    "        y.backward()\n",
    "        optimizer.step()\n",
    "    return x.item()"
   ],
   "metadata": {
    "collapsed": false,
    "ExecuteTime": {
     "end_time": "2023-11-19T14:47:37.865733Z",
     "start_time": "2023-11-19T14:47:37.472051Z"
    }
   },
   "id": "d893ef9ca6aa4733"
  },
  {
   "cell_type": "code",
   "execution_count": 19,
   "outputs": [],
   "source": [
    "def find_min_Adagrad ( a0, a1, a2, a3, a4 ):\n",
    "    x = torch.tensor([0.0], requires_grad=True)\n",
    "    optimizer = torch.optim.Adagrad([x], lr=0.01)\n",
    "    for _ in range(1000):\n",
    "        optimizer.zero_grad()\n",
    "        y = obj_function ( x, a0, a1, a2, a3, a4 )\n",
    "        y.backward()\n",
    "        optimizer.step()\n",
    "    return x.item()"
   ],
   "metadata": {
    "collapsed": false,
    "ExecuteTime": {
     "end_time": "2023-11-19T14:47:37.958481Z",
     "start_time": "2023-11-19T14:47:37.478788Z"
    }
   },
   "id": "4d246de13f1e9867"
  },
  {
   "cell_type": "code",
   "execution_count": 20,
   "outputs": [],
   "source": [
    "def derivate ( x , a1, a2, a3, a4 ):\n",
    "    return ( 4 * a4 * (x**3) + 3 * a3 * (x**2) + 2 * a2 * x + a1 )"
   ],
   "metadata": {
    "collapsed": false,
    "ExecuteTime": {
     "end_time": "2023-11-19T14:47:37.987666Z",
     "start_time": "2023-11-19T14:47:37.490547Z"
    }
   },
   "id": "404ae75ad1668f7a"
  },
  {
   "cell_type": "markdown",
   "source": [
    "自己計算 不用optimizer"
   ],
   "metadata": {
    "collapsed": false
   },
   "id": "a9046d1063c2ba15"
  },
  {
   "cell_type": "code",
   "execution_count": 21,
   "outputs": [],
   "source": [
    "def find_min_without_optim ( a0, a1, a2, a3, a4 ):\n",
    "    x = 0.0\n",
    "    learning_rate = 0.01\n",
    "    for _ in range(1000):\n",
    "        y = derivate ( x, a1, a2, a3, a4 )\n",
    "        x -= y * learning_rate\n",
    "    return x"
   ],
   "metadata": {
    "collapsed": false,
    "ExecuteTime": {
     "end_time": "2023-11-19T14:47:37.998008Z",
     "start_time": "2023-11-19T14:47:37.497744Z"
    }
   },
   "id": "a15fde0f004a9d17"
  },
  {
   "cell_type": "markdown",
   "source": [
    "隨機設定係數（a0,a1,a2,a3,a4）"
   ],
   "metadata": {
    "collapsed": false
   },
   "id": "53997d831d81b6bf"
  },
  {
   "cell_type": "code",
   "execution_count": 22,
   "outputs": [
    {
     "name": "stdout",
     "output_type": "stream",
     "text": [
      "-16 -20 13 -14 31\n"
     ]
    }
   ],
   "source": [
    "a = random.sample(range(-50, 50), 4)\n",
    "a += random.sample(range(1, 50), 1)\n",
    "a0, a1, a2, a3, a4 = [i for i in a]\n",
    "print ( a0, a1, a2, a3, a4 )"
   ],
   "metadata": {
    "collapsed": false,
    "ExecuteTime": {
     "end_time": "2023-11-19T14:47:38.028080Z",
     "start_time": "2023-11-19T14:47:37.507534Z"
    }
   },
   "id": "a665d049950a6cca"
  },
  {
   "cell_type": "markdown",
   "source": [
    "輸出結果"
   ],
   "metadata": {
    "collapsed": false
   },
   "id": "9094c174c92cf3bb"
  },
  {
   "cell_type": "code",
   "execution_count": 23,
   "outputs": [
    {
     "name": "stdout",
     "output_type": "stream",
     "text": [
      "[   SGD    ] The value of x_min for a4x^4 + a3x^3 + a2x^2 + a1x + a0 is: 0.5247993469238281\n",
      "[   Adam   ] The value of x_min for a4x^4 + a3x^3 + a2x^2 + a1x + a0 is: 0.5247992873191833\n",
      "[ RMSprop  ] The value of x_min for a4x^4 + a3x^3 + a2x^2 + a1x + a0 is: 0.529644250869751\n",
      "[ Adagrad  ] The value of x_min for a4x^4 + a3x^3 + a2x^2 + a1x + a0 is: 0.4769550859928131\n",
      "[Without Optimzer] The value of x_min for a4x^4 + a3x^3 + a2x^2 + a1x + a0 is: 0.5247993228603869\n"
     ]
    }
   ],
   "source": [
    "optim_method = [\"SGD\",\"Adam\",\"RMSprop\",\"Adagrad\",\"Without Optimzer\"]\n",
    "x_min = list()\n",
    "x_min.append(find_min_SGD(a0, a1, a2, a3, a4))\n",
    "x_min.append(find_min_Adam(a0, a1, a2, a3, a4))\n",
    "x_min.append(find_min_RMSprop(a0, a1, a2, a3, a4))\n",
    "x_min.append(find_min_Adagrad(a0, a1, a2, a3, a4))\n",
    "x_min.append(find_min_without_optim (a0, a1, a2, a3, a4))\n",
    "\n",
    "for i in range(5):\n",
    "    print (f\"[{optim_method[i]:^10}]\" , end = ' ')\n",
    "    print (f\"The value of x_min for a4x^4 + a3x^3 + a2x^2 + a1x + a0 is: {x_min[i]}\")"
   ],
   "metadata": {
    "collapsed": false,
    "ExecuteTime": {
     "end_time": "2023-11-19T14:47:39.617755Z",
     "start_time": "2023-11-19T14:47:37.520802Z"
    }
   },
   "id": "ba6e654f3df430a0"
  }
 ],
 "metadata": {
  "kernelspec": {
   "display_name": "Python 3 (ipykernel)",
   "language": "python",
   "name": "python3"
  },
  "language_info": {
   "codemirror_mode": {
    "name": "ipython",
    "version": 3
   },
   "file_extension": ".py",
   "mimetype": "text/x-python",
   "name": "python",
   "nbconvert_exporter": "python",
   "pygments_lexer": "ipython3",
   "version": "3.11.4"
  }
 },
 "nbformat": 4,
 "nbformat_minor": 5
}
