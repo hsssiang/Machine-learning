{
 "metadata": {
  "kernelspec": {
   "language": "python",
   "display_name": "Python 3",
   "name": "python3"
  },
  "language_info": {
   "name": "python",
   "version": "3.10.12",
   "mimetype": "text/x-python",
   "codemirror_mode": {
    "name": "ipython",
    "version": 3
   },
   "pygments_lexer": "ipython3",
   "nbconvert_exporter": "python",
   "file_extension": ".py"
  }
 },
 "nbformat_minor": 4,
 "nbformat": 4,
 "cells": [
  {
   "cell_type": "code",
   "source": [
    "# This Python 3 environment comes with many helpful analytics libraries installed\n",
    "# It is defined by the kaggle/python Docker image: https://github.com/kaggle/docker-python\n",
    "# For example, here's several helpful packages to load\n",
    "\n",
    "import numpy as np # linear algebra\n",
    "import pandas as pd # data processing, CSV file I/O (e.g. pd.read_csv)\n",
    "from sklearn.preprocessing import LabelEncoder\n",
    "\n",
    "\n",
    "# Input data files are available in the read-only \"../input/\" directory\n",
    "# For example, running this (by clicking run or pressing Shift+Enter) will list all files under the input directory\n",
    "# You can write up to 20GB to the current directory (/kaggle/working/) that gets preserved as output when you create a version using \"Save & Run All\" \n",
    "# You can also write temporary files to /kaggle/temp/, but they won't be saved outside of the current session"
   ],
   "metadata": {
    "_uuid": "8f2839f25d086af736a60e9eeb907d3b93b6e0e5",
    "_cell_guid": "b1076dfc-b9ad-4769-8c92-a6c4dae69d19",
    "execution": {
     "iopub.status.busy": "2023-10-15T02:21:02.926090Z",
     "iopub.execute_input": "2023-10-15T02:21:02.926468Z",
     "iopub.status.idle": "2023-10-15T02:21:02.935512Z",
     "shell.execute_reply.started": "2023-10-15T02:21:02.926423Z",
     "shell.execute_reply": "2023-10-15T02:21:02.934356Z"
    },
    "trusted": true,
    "ExecuteTime": {
     "start_time": "2023-10-15T06:30:18.165567Z"
    }
   },
   "execution_count": null,
   "outputs": []
  },
  {
   "cell_type": "markdown",
   "source": [
    "Jimmy 你是 Gay"
   ],
   "metadata": {}
  },
  {
   "cell_type": "code",
   "source": [
    "train = pd.read_csv(\"/Users/jimmywang/Desktop/Jupyter/ML/house-prices-advanced-regression-techniques/train.csv\")"
   ],
   "metadata": {
    "execution": {
     "iopub.status.busy": "2023-10-15T02:21:02.937324Z",
     "iopub.execute_input": "2023-10-15T02:21:02.938280Z",
     "iopub.status.idle": "2023-10-15T02:21:02.970867Z",
     "shell.execute_reply.started": "2023-10-15T02:21:02.938244Z",
     "shell.execute_reply": "2023-10-15T02:21:02.969910Z"
    },
    "trusted": true,
    "ExecuteTime": {
     "start_time": "2023-10-15T06:30:18.168995Z"
    }
   },
   "execution_count": null,
   "outputs": []
  },
  {
   "cell_type": "code",
   "source": [
    "test = pd.read_csv(\"/Users/jimmywang/Desktop/Jupyter/ML/house-prices-advanced-regression-techniques/test.csv\")"
   ],
   "metadata": {
    "execution": {
     "iopub.status.busy": "2023-10-15T02:21:02.971929Z",
     "iopub.execute_input": "2023-10-15T02:21:02.972379Z",
     "iopub.status.idle": "2023-10-15T02:21:02.997589Z",
     "shell.execute_reply.started": "2023-10-15T02:21:02.972341Z",
     "shell.execute_reply": "2023-10-15T02:21:02.996573Z"
    },
    "trusted": true,
    "ExecuteTime": {
     "start_time": "2023-10-15T06:30:18.173634Z"
    }
   },
   "execution_count": null,
   "outputs": []
  },
  {
   "cell_type": "code",
   "source": [
    "train = train.drop(['Id'], axis=1)\n",
    "test = test.drop(['Id'], axis=1)"
   ],
   "metadata": {
    "execution": {
     "iopub.status.busy": "2023-10-15T02:21:02.999719Z",
     "iopub.execute_input": "2023-10-15T02:21:03.000124Z",
     "iopub.status.idle": "2023-10-15T02:21:03.007761Z",
     "shell.execute_reply.started": "2023-10-15T02:21:03.000088Z",
     "shell.execute_reply": "2023-10-15T02:21:03.006865Z"
    },
    "trusted": true,
    "ExecuteTime": {
     "start_time": "2023-10-15T06:30:18.177164Z"
    }
   },
   "execution_count": null,
   "outputs": []
  },
  {
   "cell_type": "code",
   "source": [
    "#train = train.select_dtypes(include = [\"int64\", \"float64\" ])\n",
    "#test = test.select_dtypes(include = [\"int64\", \"float64\"])"
   ],
   "metadata": {
    "execution": {
     "iopub.status.busy": "2023-10-15T02:21:03.059147Z",
     "iopub.execute_input": "2023-10-15T02:21:03.059507Z",
     "iopub.status.idle": "2023-10-15T02:21:03.087573Z",
     "shell.execute_reply.started": "2023-10-15T02:21:03.059479Z",
     "shell.execute_reply": "2023-10-15T02:21:03.086523Z"
    },
    "trusted": true,
    "ExecuteTime": {
     "start_time": "2023-10-15T06:30:18.181241Z"
    }
   },
   "execution_count": null,
   "outputs": []
  },
  {
   "cell_type": "code",
   "source": [
    "train = train.dropna(axis=1)\n",
    "test = test.dropna(axis=1)\n",
    "#train = pd.get_dummies(train)\n",
    "#test = pd.get_dummies(test)"
   ],
   "metadata": {
    "execution": {
     "iopub.status.busy": "2023-10-15T02:21:03.089679Z",
     "iopub.execute_input": "2023-10-15T02:21:03.090051Z",
     "iopub.status.idle": "2023-10-15T02:21:03.099691Z",
     "shell.execute_reply.started": "2023-10-15T02:21:03.090017Z",
     "shell.execute_reply": "2023-10-15T02:21:03.098630Z"
    },
    "trusted": true,
    "ExecuteTime": {
     "start_time": "2023-10-15T06:30:18.184677Z"
    }
   },
   "execution_count": null,
   "outputs": []
  },
  {
   "cell_type": "code",
   "execution_count": null,
   "outputs": [],
   "source": [
    "columns_to_encode_train = train.columns[train.dtypes == 'object']  # 只選擇類型為'object'（字符串）的列\n",
    "columns_to_encode_test = test.columns[test.dtypes == 'object']  # 只選擇類型為'object'（字符串）的列\n",
    "label_encoder = LabelEncoder()\n",
    "for i in columns_to_encode_train:\n",
    "    train[i] = label_encoder.fit_transform(train[i])\n",
    "for i in columns_to_encode_test:\n",
    "    test[i] = label_encoder.fit_transform(test[i])"
   ],
   "metadata": {
    "collapsed": false,
    "ExecuteTime": {
     "start_time": "2023-10-15T06:30:18.189743Z"
    }
   }
  },
  {
   "cell_type": "code",
   "source": [
    "y_train = train[\"SalePrice\"]\n",
    "x_train = train.drop([\"SalePrice\"], axis=1)\n"
   ],
   "metadata": {
    "execution": {
     "iopub.status.busy": "2023-10-15T02:21:03.100821Z",
     "iopub.execute_input": "2023-10-15T02:21:03.101164Z",
     "iopub.status.idle": "2023-10-15T02:21:03.110082Z",
     "shell.execute_reply.started": "2023-10-15T02:21:03.101106Z",
     "shell.execute_reply": "2023-10-15T02:21:03.109020Z"
    },
    "trusted": true,
    "ExecuteTime": {
     "start_time": "2023-10-15T06:30:18.194013Z"
    }
   },
   "execution_count": null,
   "outputs": []
  },
  {
   "cell_type": "code",
   "source": [
    "y_train"
   ],
   "metadata": {
    "execution": {
     "iopub.status.busy": "2023-10-15T02:21:03.132762Z",
     "iopub.execute_input": "2023-10-15T02:21:03.133533Z",
     "iopub.status.idle": "2023-10-15T02:21:03.144962Z",
     "shell.execute_reply.started": "2023-10-15T02:21:03.133507Z",
     "shell.execute_reply": "2023-10-15T02:21:03.143986Z"
    },
    "trusted": true,
    "ExecuteTime": {
     "start_time": "2023-10-15T06:30:18.200546Z"
    }
   },
   "execution_count": null,
   "outputs": []
  },
  {
   "cell_type": "code",
   "source": [
    "# 正規劃處理 \n",
    "from sklearn.preprocessing import StandardScaler\n",
    "\n",
    "scaler = StandardScaler()\n",
    "scaler.fit(x_train)\n",
    "x_train = scaler.transform(x_train)\n",
    "scaler_test = StandardScaler().fit(test)\n",
    "test = scaler_test.transform(test)"
   ],
   "metadata": {
    "execution": {
     "iopub.status.busy": "2023-10-15T02:21:03.146207Z",
     "iopub.execute_input": "2023-10-15T02:21:03.147063Z",
     "iopub.status.idle": "2023-10-15T02:21:03.187825Z",
     "shell.execute_reply.started": "2023-10-15T02:21:03.147035Z",
     "shell.execute_reply": "2023-10-15T02:21:03.186182Z"
    },
    "trusted": true,
    "ExecuteTime": {
     "start_time": "2023-10-15T06:30:18.202470Z"
    }
   },
   "execution_count": null,
   "outputs": []
  },
  {
   "cell_type": "code",
   "source": [
    "def compute_cost(x, y, w, b):\n",
    "    y_pred =(w*x).sum(axis=1) + b\n",
    "    cost = ((y - y_pred)**2).mean()\n",
    "    return cost"
   ],
   "metadata": {
    "execution": {
     "iopub.status.busy": "2023-10-15T02:21:03.188721Z",
     "iopub.status.idle": "2023-10-15T02:21:03.189566Z",
     "shell.execute_reply.started": "2023-10-15T02:21:03.189345Z",
     "shell.execute_reply": "2023-10-15T02:21:03.189386Z"
    },
    "trusted": true,
    "ExecuteTime": {
     "start_time": "2023-10-15T06:30:18.205923Z"
    }
   },
   "execution_count": null,
   "outputs": []
  },
  {
   "cell_type": "code",
   "source": [
    "def compute_gradient(x, y, w, b):\n",
    "    y_pred = (x*w).sum(axis=1) + b\n",
    "    w_gradient = np.zeros(x.shape[1])\n",
    "    \n",
    "    # compute b_gradient\n",
    "    b_gradient = (y_pred - y).mean()\n",
    "    \n",
    "    # compute w_gradient\n",
    "    for i in range(x.shape[1]):\n",
    "        w_gradient[i] = (x[:, i]*(y_pred - y)).mean()\n",
    "\n",
    "    return w_gradient, b_gradient"
   ],
   "metadata": {
    "execution": {
     "iopub.status.busy": "2023-10-15T02:21:03.190616Z",
     "iopub.status.idle": "2023-10-15T02:21:03.191779Z",
     "shell.execute_reply.started": "2023-10-15T02:21:03.191567Z",
     "shell.execute_reply": "2023-10-15T02:21:03.191589Z"
    },
    "trusted": true,
    "ExecuteTime": {
     "start_time": "2023-10-15T06:30:18.207853Z"
    }
   },
   "execution_count": null,
   "outputs": []
  },
  {
   "cell_type": "code",
   "source": [
    "def gradient_descent(x, y, w_init, b_init, learning_rate, cost_function, gradient_function, run_iter, p_iter=1000):\n",
    "  \n",
    "    c_hist = []\n",
    "    w_hist = []\n",
    "    b_hist = []\n",
    "  \n",
    "    w = w_init\n",
    "    b = b_init\n",
    "\n",
    "    for i in range(run_iter):\n",
    "        w_gradient, b_gradient = gradient_function(x, y, w, b)\n",
    "\n",
    "        w = w - w_gradient*learning_rate\n",
    "        b = b - b_gradient*learning_rate\n",
    "        cost = cost_function(x, y, w, b)\n",
    "\n",
    "        w_hist.append(w)\n",
    "        b_hist.append(b)\n",
    "        c_hist.append(cost)\n",
    "\n",
    "        if i%p_iter == 0:\n",
    "            print(f\"Iteration {i} : Cost {cost}\")\n",
    "\n",
    "    return w, b, w_hist, b_hist, c_hist"
   ],
   "metadata": {
    "execution": {
     "iopub.status.busy": "2023-10-15T02:21:03.192513Z",
     "iopub.status.idle": "2023-10-15T02:21:03.192801Z",
     "shell.execute_reply.started": "2023-10-15T02:21:03.192656Z",
     "shell.execute_reply": "2023-10-15T02:21:03.192669Z"
    },
    "trusted": true,
    "ExecuteTime": {
     "start_time": "2023-10-15T06:30:18.209191Z"
    }
   },
   "execution_count": null,
   "outputs": []
  },
  {
   "cell_type": "code",
   "source": [
    "w_init = np.array([1 for x in range(0,x_train.shape[1])])\n",
    "b_init = 0\n",
    "learning_rate = 5.0e-2\n",
    "run_iter = 3000\n",
    "\n",
    "w_final, b_final, w_hist, b_hist, c_hist = gradient_descent(x_train, y_train, w_init, b_init, learning_rate, compute_cost, compute_gradient, run_iter)"
   ],
   "metadata": {
    "execution": {
     "iopub.status.busy": "2023-10-15T02:21:03.194004Z",
     "iopub.status.idle": "2023-10-15T02:21:03.194300Z",
     "shell.execute_reply.started": "2023-10-15T02:21:03.194156Z",
     "shell.execute_reply": "2023-10-15T02:21:03.194171Z"
    },
    "trusted": true,
    "ExecuteTime": {
     "start_time": "2023-10-15T06:30:18.210555Z"
    }
   },
   "execution_count": null,
   "outputs": []
  },
  {
   "cell_type": "code",
   "source": [
    "temp = pd.read_csv(\"/Users/jimmywang/Desktop/Jupyter/ML/house-prices-advanced-regression-techniques/sample_submission.csv\")\n",
    "temp = temp.drop(\"Id\", axis=1)\n",
    "temp = temp.to_numpy()"
   ],
   "metadata": {
    "execution": {
     "iopub.status.busy": "2023-10-15T02:21:03.195129Z",
     "iopub.status.idle": "2023-10-15T02:21:03.195435Z",
     "shell.execute_reply.started": "2023-10-15T02:21:03.195268Z",
     "shell.execute_reply": "2023-10-15T02:21:03.195281Z"
    },
    "trusted": true,
    "ExecuteTime": {
     "start_time": "2023-10-15T06:30:18.213703Z"
    }
   },
   "execution_count": null,
   "outputs": []
  },
  {
   "cell_type": "code",
   "source": [
    "np.set_printoptions(formatter={'float': '{: .2e}'.format})\n",
    "x_test = test\n",
    "y_test=[]\n",
    "for i in range(0, len(temp)):\n",
    "    y_test.append(temp[i][0])"
   ],
   "metadata": {
    "execution": {
     "iopub.status.busy": "2023-10-15T02:21:03.196556Z",
     "iopub.status.idle": "2023-10-15T02:21:03.196854Z",
     "shell.execute_reply.started": "2023-10-15T02:21:03.196703Z",
     "shell.execute_reply": "2023-10-15T02:21:03.196716Z"
    },
    "trusted": true,
    "ExecuteTime": {
     "start_time": "2023-10-15T06:30:18.216534Z"
    }
   },
   "execution_count": null,
   "outputs": []
  },
  {
   "cell_type": "code",
   "source": [
    "y_pred = (w_final*x_test).sum(axis=1) + b_final\n",
    "pd.DataFrame({\n",
    "    \"y_pred\": y_pred,\n",
    "    \"y_test\": y_test\n",
    "})"
   ],
   "metadata": {
    "execution": {
     "iopub.status.busy": "2023-10-15T02:21:03.197876Z",
     "iopub.status.idle": "2023-10-15T02:21:03.198357Z",
     "shell.execute_reply.started": "2023-10-15T02:21:03.198102Z",
     "shell.execute_reply": "2023-10-15T02:21:03.198125Z"
    },
    "trusted": true,
    "ExecuteTime": {
     "start_time": "2023-10-15T06:30:18.218439Z"
    }
   },
   "execution_count": null,
   "outputs": []
  },
  {
   "cell_type": "code",
   "source": [
    "import matplotlib.pyplot as plt\n",
    "p = plt.plot(w_hist[0:], c_hist)\n",
    "plt.xlabel(\"cost\")\n",
    "plt.ylabel(\"w\") \n",
    "display(p)"
   ],
   "metadata": {
    "execution": {
     "iopub.status.busy": "2023-10-15T02:21:03.199664Z",
     "iopub.status.idle": "2023-10-15T02:21:03.200146Z",
     "shell.execute_reply.started": "2023-10-15T02:21:03.199912Z",
     "shell.execute_reply": "2023-10-15T02:21:03.199935Z"
    },
    "trusted": true,
    "ExecuteTime": {
     "start_time": "2023-10-15T06:30:18.221576Z"
    }
   },
   "execution_count": null,
   "outputs": []
  },
  {
   "cell_type": "code",
   "source": [],
   "metadata": {
    "ExecuteTime": {
     "start_time": "2023-10-15T06:30:18.223393Z"
    }
   },
   "execution_count": null,
   "outputs": []
  }
 ]
}
